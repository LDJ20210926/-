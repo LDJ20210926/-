{
 "cells": [
  {
   "cell_type": "raw",
   "id": "affecting-superior",
   "metadata": {},
   "source": [
    "单向链表也叫单链表，是链表中最简单的一种形式，它的每个节点包含两个域，一个是信息域，一个是链接域。这个链接指向链表中的下一个节点，而最后\n",
    "一个节点的链接则指向一个空值。\n",
    "表元素域用来存放具体的数据。\n",
    "链接域next用来存放下一个节点的位置\n",
    "变量P指向链表的头节点的位置，从P出发能找到表中的任意节点\n",
    "\n",
    "单链表的操作\n",
    "is_empty() 链表是否为空\n",
    "length() 链表长度\n",
    "travel() 遍历整个链表\n",
    "add(item) 链表头部添加元素\n",
    "append(item) 链表尾部添加元素\n",
    "insert(pos,item) 指定位置添加元素\n",
    "remove(item) 删除节点\n",
    "search(item) 查找节点是否存在\n"
   ]
  },
  {
   "cell_type": "code",
   "execution_count": 1,
   "id": "apparent-agreement",
   "metadata": {},
   "outputs": [],
   "source": [
    "#节点实现\n",
    "class Node(object):\n",
    "    '''单链表节点'''\n",
    "    def __init__(self,elem):\n",
    "        self.elem=elem\n",
    "        self.next=None\n",
    "\n",
    "class SingleLinkList(object):\n",
    "    def __init__(self,node=None):\n",
    "        self._head = node\n",
    "        \n",
    "    def is_empty(self):\n",
    "        '''链表是否为空'''\n",
    "        return self._head==None\n",
    "    \n",
    "    def length(self):\n",
    "        '''链表长度'''\n",
    "        #cur用来移动遍历节点\n",
    "        cur=self._head\n",
    "        #count 记录数量\n",
    "        count=0\n",
    "        while cur !=None:\n",
    "            count+=1\n",
    "            cur=cur.next\n",
    "        return count\n",
    "            \n",
    "    def travel(self):\n",
    "        '''遍历整个链表'''\n",
    "        cur=self._head\n",
    "        while cur != None:\n",
    "            print(cur.elem,end=\" \")\n",
    "            cur=cur.next\n",
    "        \n",
    "    def add(self,item):\n",
    "        '''链表头部添加元素'''\n",
    "        node=Node(item)\n",
    "        node.next=self._head\n",
    "        self._head=node\n",
    "        \n",
    "    \n",
    "    def append(self,item):\n",
    "        '''链表尾部添加元素'''\n",
    "        node=Node(item)\n",
    "        if self.is_empty():\n",
    "            self._head=node\n",
    "        else:\n",
    "            cur=self._head\n",
    "            while cur.next != None:\n",
    "                cur=cur.next\n",
    "            cur.next=node\n",
    "        \n",
    "    def insert(self,pos,item):\n",
    "        '''指定位置添加元素'''\n",
    "        #pos 从零开始\n",
    "        if pos <=0:\n",
    "            self.add(item)\n",
    "        elif pos > self.length()-1:\n",
    "            self.append(item)\n",
    "        else:\n",
    "            pre=self._head\n",
    "            count=0\n",
    "            while count <(pos-1):\n",
    "                count+=1\n",
    "                pre=pre.next\n",
    "            #当退出循环之后，pre指向pos-1的位置\n",
    "            node=Node(item)\n",
    "            node.next=pre.next\n",
    "            pre.next=node\n",
    "            \n",
    "        \n",
    "    def remove(self,item):\n",
    "        '''删除节点'''\n",
    "        cur=self._head\n",
    "        pre=None\n",
    "        while cur !=None:\n",
    "            if cur.elem==item:\n",
    "                #先判断是否为头节点\n",
    "                if cur==self._head:\n",
    "                    self._head=cur.next\n",
    "                else:\n",
    "                    pre.next=cur.next\n",
    "                break\n",
    "            else:\n",
    "                pre=cur\n",
    "                cur=cur.next\n",
    "        \n",
    "    def search(self,item):\n",
    "        '''查找节点是否存在'''\n",
    "        cur=self._head\n",
    "        while cur != None:\n",
    "            if cur.elem == item:\n",
    "                return True\n",
    "            else:\n",
    "                cur=cur.next\n",
    "        return False\n",
    "    \n",
    "        \n",
    "    "
   ]
  },
  {
   "cell_type": "code",
   "execution_count": 2,
   "id": "opponent-contents",
   "metadata": {},
   "outputs": [
    {
     "name": "stdout",
     "output_type": "stream",
     "text": [
      "True\n",
      "0\n",
      "False\n",
      "1\n"
     ]
    }
   ],
   "source": [
    "ll=SingleLinkList()\n",
    "print(ll.is_empty())\n",
    "print(ll.length())\n",
    "ll.append(1)\n",
    "print(ll.is_empty())\n",
    "print(ll.length())\n"
   ]
  },
  {
   "cell_type": "code",
   "execution_count": 3,
   "id": "dirty-nowhere",
   "metadata": {},
   "outputs": [
    {
     "name": "stdout",
     "output_type": "stream",
     "text": [
      "8 1 2 3 4 5 6 "
     ]
    }
   ],
   "source": [
    "ll.append(2)\n",
    "ll.add(8)\n",
    "ll.append(3)\n",
    "ll.append(4)\n",
    "ll.append(5)\n",
    "ll.append(6)\n",
    "ll.travel()"
   ]
  },
  {
   "cell_type": "code",
   "execution_count": 4,
   "id": "unsigned-edgar",
   "metadata": {},
   "outputs": [
    {
     "name": "stdout",
     "output_type": "stream",
     "text": [
      "9 8 1 2 3 4 5 6 "
     ]
    }
   ],
   "source": [
    "ll.add(9)\n",
    "ll.travel()"
   ]
  },
  {
   "cell_type": "code",
   "execution_count": 5,
   "id": "greek-sympathy",
   "metadata": {},
   "outputs": [
    {
     "name": "stdout",
     "output_type": "stream",
     "text": [
      "10 9 8 1 2 3 4 5 6 "
     ]
    }
   ],
   "source": [
    "ll.add(10)\n",
    "ll.travel()"
   ]
  },
  {
   "cell_type": "code",
   "execution_count": 6,
   "id": "spatial-deviation",
   "metadata": {},
   "outputs": [
    {
     "name": "stdout",
     "output_type": "stream",
     "text": [
      "10 9 8 8 1 2 3 4 5 6 "
     ]
    }
   ],
   "source": [
    "ll.insert(2,8)\n",
    "ll.travel()"
   ]
  },
  {
   "cell_type": "code",
   "execution_count": 7,
   "id": "quarterly-colonial",
   "metadata": {},
   "outputs": [],
   "source": [
    "ll.insert(0,9)"
   ]
  },
  {
   "cell_type": "code",
   "execution_count": 8,
   "id": "recent-shoot",
   "metadata": {},
   "outputs": [
    {
     "name": "stdout",
     "output_type": "stream",
     "text": [
      "9 10 9 8 8 1 2 3 4 5 6 "
     ]
    }
   ],
   "source": [
    "ll.travel()"
   ]
  },
  {
   "cell_type": "code",
   "execution_count": 9,
   "id": "narrative-mission",
   "metadata": {},
   "outputs": [
    {
     "data": {
      "text/plain": [
       "True"
      ]
     },
     "execution_count": 9,
     "metadata": {},
     "output_type": "execute_result"
    }
   ],
   "source": [
    "ll.search(9)"
   ]
  },
  {
   "cell_type": "code",
   "execution_count": 10,
   "id": "controlling-boards",
   "metadata": {},
   "outputs": [
    {
     "data": {
      "text/plain": [
       "True"
      ]
     },
     "execution_count": 10,
     "metadata": {},
     "output_type": "execute_result"
    }
   ],
   "source": [
    "ll.search(2)"
   ]
  },
  {
   "cell_type": "code",
   "execution_count": 11,
   "id": "outstanding-bloom",
   "metadata": {},
   "outputs": [],
   "source": [
    "ll.remove(2)"
   ]
  },
  {
   "cell_type": "code",
   "execution_count": 12,
   "id": "confirmed-february",
   "metadata": {},
   "outputs": [
    {
     "name": "stdout",
     "output_type": "stream",
     "text": [
      "9 10 9 8 8 1 3 4 5 6 "
     ]
    }
   ],
   "source": [
    "ll.travel()"
   ]
  },
  {
   "cell_type": "raw",
   "id": "active-theology",
   "metadata": {},
   "source": [
    "双向链表：\n",
    "前驱结点\n",
    "后继结点"
   ]
  },
  {
   "cell_type": "code",
   "execution_count": 16,
   "id": "affected-brooklyn",
   "metadata": {},
   "outputs": [],
   "source": [
    "class DNode(object):\n",
    "    def __init__(self,item):\n",
    "        self.elem=item\n",
    "        self.next=None\n",
    "        self.prev=None\n",
    "    "
   ]
  },
  {
   "cell_type": "code",
   "execution_count": 25,
   "id": "higher-candy",
   "metadata": {},
   "outputs": [],
   "source": [
    "class DoubleLinkList(object):\n",
    "    '''双链表'''\n",
    "    def __init__(self,node=None):\n",
    "        self.head=node\n",
    "    \n",
    "    \n",
    "    def is_empty(self):\n",
    "        '''链表是否为空'''\n",
    "        return self.head is None\n",
    "    \n",
    "    def length(self):\n",
    "        '''链表长度'''\n",
    "        #cur指针，用来移动遍历节点\n",
    "        cur=self.head\n",
    "        #count 计数\n",
    "        count=0\n",
    "        while cur != None:\n",
    "            count+=1\n",
    "            cur=cur.next\n",
    "        return count\n",
    "    \n",
    "    def travel(self):\n",
    "        '''遍历整个链表'''\n",
    "        cur=self.head\n",
    "        while cur != None:\n",
    "            print(cur.elem, end=\" \")\n",
    "            cur=cur.next\n",
    "        print(\"\")\n",
    "        \n",
    "    def add(self,item):\n",
    "        '''头部插入元素'''\n",
    "        node=DNode(item)\n",
    "        node.next=self.head\n",
    "        self.head=node\n",
    "        node.next.prev=node\n",
    "        \n",
    "    def append(self,item):\n",
    "        '''尾部添加元素'''\n",
    "        node=DNode(item)\n",
    "        if self.is_empty():\n",
    "            self.head=node\n",
    "        else:\n",
    "            cur=self.head\n",
    "            while cur.next != None:\n",
    "                cur=cur.next\n",
    "            cur.next=node\n",
    "            node.prev=cur\n",
    "            \n",
    "    def insert(self,pos,item):\n",
    "        '''指定位置添加元素'''\n",
    "        \n",
    "        if pos <=0:\n",
    "            self.add(item)\n",
    "            \n",
    "        elif pos > (self.length()-1):\n",
    "            self.append(item)\n",
    "        \n",
    "        else:\n",
    "            cur=self.head\n",
    "            count=0\n",
    "            while count < pos:\n",
    "                count+=1\n",
    "                cur=cur.next\n",
    "            #当退出循环的时候，cur指向的是pos位置\n",
    "            node=DNode(item)\n",
    "            node.next=cur\n",
    "            node.prev=cur.prev\n",
    "            cur.prev.next=node\n",
    "            cur.prev=node\n",
    "            \n",
    "            \n",
    "    def search(self,item):\n",
    "        '''查找最近的节点是否存在'''\n",
    "        cur=self.head\n",
    "        while cur !=None:\n",
    "            if cur.elem == item:\n",
    "                return True\n",
    "            else:\n",
    "                cur=cur.next\n",
    "        return False\n",
    "    \n",
    "    def remove(self,item):\n",
    "        '''删除指定元素的结点'''\n",
    "        cur=self.head\n",
    "        while cur !=None:\n",
    "            if cur.elem==item:\n",
    "                if  cur==self.head:\n",
    "                    self.head=cur.next\n",
    "                    if cur.next:\n",
    "                        cur.next.prev=None\n",
    "                else:\n",
    "                    cur.prev.next=cur.next\n",
    "                    if cur.next:\n",
    "                        cur.next.prev=cur.prev\n",
    "                break\n",
    "            else:\n",
    "                cur=cur.next\n",
    "                \n",
    "                "
   ]
  },
  {
   "cell_type": "code",
   "execution_count": 27,
   "id": "documented-fitness",
   "metadata": {},
   "outputs": [
    {
     "name": "stdout",
     "output_type": "stream",
     "text": [
      "True\n",
      "0\n"
     ]
    }
   ],
   "source": [
    "dl=DoubleLinkList()\n",
    "print(dl.is_empty())\n",
    "print(dl.length())"
   ]
  },
  {
   "cell_type": "code",
   "execution_count": 19,
   "id": "endangered-lesbian",
   "metadata": {},
   "outputs": [
    {
     "name": "stdout",
     "output_type": "stream",
     "text": [
      "False\n",
      "1\n"
     ]
    }
   ],
   "source": [
    "dl.append(1)\n",
    "print(dl.is_empty())\n",
    "print(dl.length())"
   ]
  },
  {
   "cell_type": "code",
   "execution_count": 28,
   "id": "invalid-blanket",
   "metadata": {},
   "outputs": [
    {
     "name": "stdout",
     "output_type": "stream",
     "text": [
      "9 2 3 4 5 6 \n"
     ]
    }
   ],
   "source": [
    "dl.append(2)\n",
    "dl.add(9)\n",
    "dl.append(3)\n",
    "dl.append(4)\n",
    "dl.append(5)\n",
    "dl.append(6)\n",
    "dl.travel()"
   ]
  },
  {
   "cell_type": "code",
   "execution_count": 21,
   "id": "failing-barrier",
   "metadata": {},
   "outputs": [
    {
     "name": "stdout",
     "output_type": "stream",
     "text": [
      "8 9 1 2 3 4 5 6 \n"
     ]
    }
   ],
   "source": [
    "dl.insert(-1,8)\n",
    "dl.travel()"
   ]
  },
  {
   "cell_type": "code",
   "execution_count": 22,
   "id": "national-tender",
   "metadata": {},
   "outputs": [
    {
     "name": "stdout",
     "output_type": "stream",
     "text": [
      "8 9 1 2 3 4 5 6 10 \n"
     ]
    }
   ],
   "source": [
    "dl.insert(10,10)\n",
    "dl.travel()"
   ]
  },
  {
   "cell_type": "code",
   "execution_count": 23,
   "id": "virtual-malaysia",
   "metadata": {},
   "outputs": [
    {
     "name": "stdout",
     "output_type": "stream",
     "text": [
      "8 9 1 2 3 4 5 10 \n"
     ]
    }
   ],
   "source": [
    "dl.remove(6)\n",
    "dl.travel()"
   ]
  },
  {
   "cell_type": "code",
   "execution_count": 29,
   "id": "beautiful-speech",
   "metadata": {},
   "outputs": [
    {
     "name": "stdout",
     "output_type": "stream",
     "text": [
      "9 2 3 4 200 5 6 \n"
     ]
    }
   ],
   "source": [
    "dl.insert(4,200)\n",
    "dl.travel()"
   ]
  },
  {
   "cell_type": "code",
   "execution_count": 31,
   "id": "fifty-knock",
   "metadata": {},
   "outputs": [],
   "source": [
    "#节点实现\n",
    "class Node(object):\n",
    "    '''单链表节点'''\n",
    "    def __init__(self,elem):\n",
    "        self.elem=elem\n",
    "        self.next=None\n",
    "\n",
    "class SingleCycLinkList(object):\n",
    "    def __init__(self,node=None):\n",
    "        self._head = node\n",
    "        if node:\n",
    "            node.next=node\n",
    "        \n",
    "    def is_empty(self):\n",
    "        '''链表是否为空'''\n",
    "        return self._head==None\n",
    "    \n",
    "    def length(self):\n",
    "        '''链表长度'''\n",
    "        #cur用来移动遍历节点\n",
    "        if self.is_empty():\n",
    "            return 0\n",
    "        cur=self._head\n",
    "        #count 记录数量\n",
    "        count=1\n",
    "        while cur.next != self._head:\n",
    "            count+=1\n",
    "            cur=cur.next\n",
    "        return count\n",
    "            \n",
    "    def travel(self):\n",
    "        '''遍历整个链表'''\n",
    "        if self.is_empty():\n",
    "            return \n",
    "        cur=self._head\n",
    "        while cur.next != self._head:\n",
    "            print(cur.elem,end=\" \")\n",
    "            cur=cur.next\n",
    "        #退出循环，cur指向的是尾部结点，但尾部结点元素未被打印\n",
    "        print(cur.elem)\n",
    "        print(\"\")\n",
    "        \n",
    "    def add(self,item):\n",
    "        '''链表头部添加元素'''\n",
    "        \n",
    "            \n",
    "        node=Node(item)\n",
    "        if self.is_empty():\n",
    "            self_head=node\n",
    "            node.next=node\n",
    "        else:\n",
    "            cur=self._head\n",
    "            while cur.next != self._head:\n",
    "                cur=cur.next\n",
    "            #退出循环之后就是尾部结点\n",
    "\n",
    "            node.next=self._head\n",
    "            self._head=node\n",
    "            cur.next=node\n",
    "        \n",
    "    \n",
    "    def append(self,item):\n",
    "        '''链表尾部添加元素'''\n",
    "        node=Node(item)\n",
    "        if self.is_empty():\n",
    "            self._head=node\n",
    "            node.next=node\n",
    "        else:\n",
    "            cur=self._head\n",
    "            while cur.next != self._head:\n",
    "                cur=cur.next\n",
    "            node.next=self._head\n",
    "            cur.next=node\n",
    "        \n",
    "    def insert(self,pos,item):\n",
    "        '''指定位置添加元素'''\n",
    "        #pos 从零开始\n",
    "        if pos <=0:\n",
    "            self.add(item)\n",
    "        elif pos > self.length()-1:\n",
    "            self.append(item)\n",
    "        else:\n",
    "            pre=self._head\n",
    "            count=0\n",
    "            while count <(pos-1):\n",
    "                count+=1\n",
    "                pre=pre.next\n",
    "            #当退出循环之后，pre指向pos-1的位置\n",
    "            node=Node(item)\n",
    "            node.next=pre.next\n",
    "            pre.next=node\n",
    "            \n",
    "        \n",
    "    def remove(self,item):\n",
    "        '''删除节点'''\n",
    "        if self.is_empty():\n",
    "            return\n",
    "        cur=self._head\n",
    "        pre=None\n",
    "        while cur.next !=self._head:\n",
    "            if cur.elem==item:\n",
    "                #先判断是否为头节点\n",
    "                if cur==self._head:\n",
    "                    #头部结点\n",
    "                    #找尾结点\n",
    "                    rear=self._head\n",
    "                    while rear.next != self._head:\n",
    "                        rear=rear.next\n",
    "                    self._head=cur.next\n",
    "                    rear.next=self._head\n",
    "                else:\n",
    "                    #中间节点\n",
    "                    pre.next=cur.next\n",
    "                return \n",
    "            else:\n",
    "                pre=cur\n",
    "                cur=cur.next\n",
    "        #退出循环，cur指向尾部结点\n",
    "        if cur.elem==item:\n",
    "            if cur == self._head:\n",
    "                #链表只有一个节点\n",
    "                self._head=None\n",
    "            else:\n",
    "                pre.next=cur.next\n",
    "        \n",
    "    def search(self,item):\n",
    "        '''查找节点是否存在'''\n",
    "        if self.is_empty():\n",
    "            return False\n",
    "        cur=self._head\n",
    "        while cur.next != self._head:\n",
    "            if cur.elem == item:\n",
    "                return True\n",
    "            else:\n",
    "                cur=cur.next\n",
    "        if cur.elem==item:\n",
    "            return True\n",
    "        return False\n",
    "    \n",
    "  "
   ]
  },
  {
   "cell_type": "code",
   "execution_count": 32,
   "id": "finished-patch",
   "metadata": {},
   "outputs": [
    {
     "name": "stdout",
     "output_type": "stream",
     "text": [
      "True\n",
      "0\n"
     ]
    }
   ],
   "source": [
    "cl=SingleCycLinkList()\n",
    "print(cl.is_empty())\n",
    "print(cl.length())"
   ]
  },
  {
   "cell_type": "code",
   "execution_count": 33,
   "id": "finnish-spank",
   "metadata": {},
   "outputs": [
    {
     "name": "stdout",
     "output_type": "stream",
     "text": [
      "False\n",
      "1\n"
     ]
    }
   ],
   "source": [
    "cl.append(1)\n",
    "print(cl.is_empty())\n",
    "print(cl.length())"
   ]
  },
  {
   "cell_type": "code",
   "execution_count": 34,
   "id": "private-smooth",
   "metadata": {},
   "outputs": [
    {
     "name": "stdout",
     "output_type": "stream",
     "text": [
      "8 1 9 2 3 4\n",
      "\n"
     ]
    }
   ],
   "source": [
    "cl.append(9)\n",
    "cl.add(8)\n",
    "cl.append(2)\n",
    "cl.append(3)\n",
    "cl.append(4)\n",
    "cl.travel()"
   ]
  },
  {
   "cell_type": "code",
   "execution_count": 35,
   "id": "optional-findings",
   "metadata": {},
   "outputs": [
    {
     "name": "stdout",
     "output_type": "stream",
     "text": [
      "8 1 9 2 100 3 4\n",
      "\n"
     ]
    }
   ],
   "source": [
    "cl.insert(4,100)\n",
    "cl.travel()"
   ]
  },
  {
   "cell_type": "code",
   "execution_count": 36,
   "id": "clear-catch",
   "metadata": {},
   "outputs": [
    {
     "name": "stdout",
     "output_type": "stream",
     "text": [
      "8 9 2 100 3 4\n",
      "\n"
     ]
    }
   ],
   "source": [
    "cl.remove(1)\n",
    "cl.travel()"
   ]
  },
  {
   "cell_type": "code",
   "execution_count": 38,
   "id": "abroad-carol",
   "metadata": {},
   "outputs": [
    {
     "data": {
      "text/plain": [
       "True"
      ]
     },
     "execution_count": 38,
     "metadata": {},
     "output_type": "execute_result"
    }
   ],
   "source": [
    "cl.search(100)"
   ]
  },
  {
   "cell_type": "code",
   "execution_count": 39,
   "id": "invalid-willow",
   "metadata": {},
   "outputs": [
    {
     "name": "stdout",
     "output_type": "stream",
     "text": [
      "200 8 9 2 100 3 4 99\n",
      "\n"
     ]
    }
   ],
   "source": [
    "cl.insert(-1,200)\n",
    "cl.insert(10,99)\n",
    "cl.travel()"
   ]
  },
  {
   "cell_type": "code",
   "execution_count": 40,
   "id": "enhanced-nowhere",
   "metadata": {},
   "outputs": [
    {
     "data": {
      "text/plain": [
       "False"
      ]
     },
     "execution_count": 40,
     "metadata": {},
     "output_type": "execute_result"
    }
   ],
   "source": [
    "cl.search(7)"
   ]
  },
  {
   "cell_type": "code",
   "execution_count": null,
   "id": "finite-maker",
   "metadata": {},
   "outputs": [],
   "source": []
  }
 ],
 "metadata": {
  "kernelspec": {
   "display_name": "Python 3",
   "language": "python",
   "name": "python3"
  },
  "language_info": {
   "codemirror_mode": {
    "name": "ipython",
    "version": 3
   },
   "file_extension": ".py",
   "mimetype": "text/x-python",
   "name": "python",
   "nbconvert_exporter": "python",
   "pygments_lexer": "ipython3",
   "version": "3.7.6"
  }
 },
 "nbformat": 4,
 "nbformat_minor": 5
}
