{
 "cells": [
  {
   "cell_type": "raw",
   "id": "adjusted-webster",
   "metadata": {},
   "source": [
    "三数之和：\n",
    "题目如下：\n",
    "首先有一个包含n个整数的数组nums\n",
    "其次：那就是找到三个不能重复的数，a,b,c；使得a+b+c=0;\n",
    "的所有元组组合，返回他们。\n",
    "这里的思想，主要是使用双指针，也就是两个游标进行选择会比较高效"
   ]
  },
  {
   "cell_type": "code",
   "execution_count": 3,
   "id": "premium-subscription",
   "metadata": {},
   "outputs": [],
   "source": [
    "def threeSum(nums):\n",
    "    ans = []\n",
    "    n = len(nums)\n",
    "    nums.sort()\n",
    "    for i in range(n):\n",
    "        left = i + 1\n",
    "        right = n - 1\n",
    "        if nums[i] > 0:\n",
    "            break\n",
    "        if i >= 1 and nums[i] == nums[i - 1]:\n",
    "            continue\n",
    "        while left < right:\n",
    "            total = nums[i] + nums[left] + nums[right]\n",
    "            if total > 0:\n",
    "                right -= 1\n",
    "            elif total < 0:\n",
    "                left += 1\n",
    "            else:\n",
    "                ans.append([nums[i], nums[left], nums[right]])\n",
    "                while left != right and nums[left] == nums[left + 1]: left += 1 #防止出现重复数组\n",
    "                while left != right and nums[right] == nums[right - 1]: right -= 1 #防止出现重复数组\n",
    "                left += 1\n",
    "                right -= 1\n",
    "    return ans\n",
    "\n",
    "#也就是说碰到了，就是需要进行两次跳跃，这是需要考虑到的。"
   ]
  },
  {
   "cell_type": "code",
   "execution_count": 4,
   "id": "bored-making",
   "metadata": {},
   "outputs": [
    {
     "data": {
      "text/plain": [
       "[[-3, -2, 5], [-3, -1, 4], [-2, 1, 1], [-1, 0, 1]]"
      ]
     },
     "execution_count": 4,
     "metadata": {},
     "output_type": "execute_result"
    }
   ],
   "source": [
    "nums=[-1,-2,-3,0,4,5,1,1,6]\n",
    "threeSum(nums)"
   ]
  },
  {
   "cell_type": "code",
   "execution_count": 5,
   "id": "complex-colony",
   "metadata": {},
   "outputs": [],
   "source": [
    "nums.sort()"
   ]
  },
  {
   "cell_type": "code",
   "execution_count": 6,
   "id": "located-blood",
   "metadata": {},
   "outputs": [
    {
     "data": {
      "text/plain": [
       "[-3, -2, -1, 0, 1, 1, 4, 5, 6]"
      ]
     },
     "execution_count": 6,
     "metadata": {},
     "output_type": "execute_result"
    }
   ],
   "source": [
    "nums"
   ]
  },
  {
   "cell_type": "raw",
   "id": "independent-accuracy",
   "metadata": {},
   "source": [
    "回溯算法：\n",
    "本质就是暴力穷举\n",
    "穷举的过程就是遍历一棵多叉树的过程\n",
    "回溯算法与多叉树遍历代码框架类似\n",
    "\n",
    "用于求解全排列的问题：\n"
   ]
  },
  {
   "cell_type": "code",
   "execution_count": 1,
   "id": "atlantic-refrigerator",
   "metadata": {},
   "outputs": [],
   "source": [
    "class Solution:\n",
    "    ans = []\n",
    "    s = ''\n",
    "    letterMap = {\n",
    "        '2': 'abc',\n",
    "        '3': 'def',\n",
    "        '4': 'ghi',\n",
    "        '5': 'jkl',\n",
    "        '6': 'mno',\n",
    "        '7': 'pqrs',\n",
    "        '8': 'tuv',\n",
    "        '9': 'wxyz'\n",
    "        }\n",
    "\n",
    "    def letterCombinations(self, digits):\n",
    "        self.ans.clear()\n",
    "        if digits == '':\n",
    "            return self.ans\n",
    "        self.backtracking(digits, 0)\n",
    "        return self.ans\n",
    "\n",
    "    def backtracking(self, digits, index):\n",
    "        if index == len(digits):\n",
    "            self.ans.append(self.s)\n",
    "            return\n",
    "        else:\n",
    "            letters = self.letterMap[digits[index]]  # 取出数字对应的字符集\n",
    "            for letter in letters:\n",
    "                self.s = self.s + letter  # 处理\n",
    "                self.backtracking(digits, index + 1)\n",
    "                self.s = self.s[:-1]      # 回溯"
   ]
  },
  {
   "cell_type": "raw",
   "id": "worthy-presentation",
   "metadata": {},
   "source": [
    "枚举法：\n",
    "a+b+c=1000\n",
    "且 a平方+b平方=c平方\n",
    "求组合"
   ]
  },
  {
   "cell_type": "code",
   "execution_count": 4,
   "id": "rocky-latin",
   "metadata": {},
   "outputs": [
    {
     "name": "stdout",
     "output_type": "stream",
     "text": [
      "0 500 500\n",
      "200 375 425\n",
      "375 200 425\n",
      "500 0 500\n",
      "1.1230642795562744\n"
     ]
    }
   ],
   "source": [
    "import time\n",
    "t1=time.time()\n",
    "for a in range(0,1001):\n",
    "    for b in range(0,1001):\n",
    "        c=1000-a-b\n",
    "        if a**2+b**2==c**2:\n",
    "            print(a,b,c)\n",
    "t2=time.time()\n",
    "print(t2-t1)"
   ]
  },
  {
   "cell_type": "raw",
   "id": "selected-homework",
   "metadata": {},
   "source": [
    "算法衡量效率\n",
    "计算的多少步\n",
    "时间复杂度\n",
    "解决问题的规模\n",
    "基本操作，即只有常数项，认为其时间复杂度为O(1)\n",
    "顺序结构，时间复杂度按加法进行计算\n",
    "循环结构，时间复杂度按乘法进行计算\n",
    "分支结构，时间复杂度取最大值\n",
    "判断一个算法的效率时，往往只需要关注操作数量的最高次项，其他次要项和常数项可以忽略\n",
    "我们指的就是最坏时间复杂度\n"
   ]
  },
  {
   "cell_type": "code",
   "execution_count": null,
   "id": "prescription-apparel",
   "metadata": {},
   "outputs": [],
   "source": [
    "import timeit\n",
    "\n",
    "a=[1,2]\n",
    "b=[23,5]\n",
    "c=a+b\n",
    "d=[i for i in range(10000)]\n",
    "e=list(range(10000))\n",
    "f=[]"
   ]
  },
  {
   "cell_type": "code",
   "execution_count": 11,
   "id": "average-disco",
   "metadata": {},
   "outputs": [
    {
     "name": "stdout",
     "output_type": "stream",
     "text": [
      "append: 0.6346152999994956\n",
      "+: 0.698299900001075\n",
      "[i for i in range]: 0.26975169999968784\n",
      "list(range()): 0.13644319999912113\n"
     ]
    }
   ],
   "source": [
    "def a1():\n",
    "    f=[]\n",
    "    for i in range(10000):\n",
    "        f.append(i)\n",
    "\n",
    "def a2():\n",
    "    a=[]\n",
    "    for i in range(10000):\n",
    "        a+=[i]\n",
    "\n",
    "def a3():\n",
    "    a=[i for i in range(10000)]\n",
    "    \n",
    "def a4():\n",
    "    a=list(range(10000))\n",
    " \n",
    "\n",
    "\n",
    "    \n",
    "from timeit import Timer\n",
    "\n",
    "timer1=Timer(\"a1()\",\"from __main__ import a1\")\n",
    "print(\"append:\",timer1.timeit(1000))\n",
    "\n",
    "timer2=Timer(\"a2()\",\"from __main__ import a2\")\n",
    "print(\"+:\",timer2.timeit(1000))\n",
    "\n",
    "timer3=Timer(\"a3()\",\"from __main__ import a3\")\n",
    "print(\"[i for i in range]:\",timer3.timeit(1000))\n",
    "\n",
    "timer4=Timer(\"a4()\",\"from __main__ import a4\")\n",
    "print(\"list(range()):\",timer4.timeit(1000))\n",
    "\n",
    "#最后一个最快"
   ]
  },
  {
   "cell_type": "code",
   "execution_count": 13,
   "id": "honest-nebraska",
   "metadata": {},
   "outputs": [
    {
     "name": "stdout",
     "output_type": "stream",
     "text": [
      "insert(): 15.69198630000028\n"
     ]
    }
   ],
   "source": [
    "def a5():\n",
    "    a=[]\n",
    "    for i in range(10000):\n",
    "        a.insert(0,i)\n",
    "        \n",
    "timer5=Timer(\"a5()\",\"from __main__ import a5\")\n",
    "print(\"insert():\",timer5.timeit(1000))"
   ]
  },
  {
   "cell_type": "raw",
   "id": "unavailable-seventh",
   "metadata": {},
   "source": [
    "indexx[] o1\n",
    "index assignment o1\n",
    "append  o1\n",
    "pop()  o1\n",
    "pop(i)  on\n",
    "insert(i,item) on\n",
    "del operator   on\n",
    "iteration    on\n",
    "contains     on\n",
    "get slice[x,y] ok\n",
    "del slice    on\n",
    "ser slice   on+k\n",
    "reverse     on\n",
    "concatenate  ok\n",
    "sort      onlogn\n",
    "multiply   onk\n",
    "\n",
    "\n",
    "数据结构：\n",
    "一组数据如何保存，这是数据的结构\n",
    "\n",
    "\n",
    "算法和数据结构之间的区别：\n",
    "程序=数据结构+算法\n",
    "\n",
    "抽象数据类型(ADT)\n",
    "把数据类型和数据类型上点的运算捆在一起，进行封装。引入抽象数据类型的目的是把数据类型的表示和数据类型上运算的实现与这些数据类型和运算\n",
    "在程序中的引用隔开，使他们相互独立。\n",
    "\n",
    "最常用的数据运算有五种：\n",
    "插入\n",
    "删除\n",
    "修改\n",
    "查找\n",
    "排序\n",
    "\n",
    "\n",
    "int=1,2,3,4，5\n",
    "\n",
    "int32\n",
    "\n",
    "一个char 占8位\n",
    "\n",
    "顺序表的两种基本形式：\n",
    "元素内置，内部就是存储元素\n",
    "元素外置的顺序表，存储的是地址，元素是存在这个地址上的。\n",
    "\n",
    "\n",
    "\n",
    "顺序表的结构与实现：\n",
    "\n",
    "元素个数：目前使用的容量\n",
    "数据区\n",
    "\n",
    "顺序表的两种实现形式：\n",
    "连续式：地址连续\n",
    "分离式：链表指向\n",
    "\n",
    "地址扩充的形式：\n",
    "固定扩充\n",
    "加倍扩充：用空间换时间，"
   ]
  }
 ],
 "metadata": {
  "kernelspec": {
   "display_name": "Python 3",
   "language": "python",
   "name": "python3"
  },
  "language_info": {
   "codemirror_mode": {
    "name": "ipython",
    "version": 3
   },
   "file_extension": ".py",
   "mimetype": "text/x-python",
   "name": "python",
   "nbconvert_exporter": "python",
   "pygments_lexer": "ipython3",
   "version": "3.7.6"
  }
 },
 "nbformat": 4,
 "nbformat_minor": 5
}
