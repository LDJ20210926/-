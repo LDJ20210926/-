{
 "cells": [
  {
   "cell_type": "raw",
   "id": "marine-flood",
   "metadata": {},
   "source": [
    "中间结果记录可以很好解决找零兑换问题\n",
    "实际上，这种方法还不能称之为动态规划，而是叫记忆缓存的技术提高了递归解法的性能\n",
    "\n",
    "\n",
    "动态规划采用了一种更有条例的方式来得到问题的解\n",
    "\n",
    "找零兑换的动态规划算法从最简单1分钱找零点的最优解开始，逐步递加上去，直到我们需要的找零钱数\n",
    "在找零递加的过程中，设法保持每一分钱的递加都是最优解，一直加到求解找零钱数，自然得到最优解。\n",
    "\n",
    "\n",
    "递加的过程能保持最优解的关键是，其依赖更少钱数最优解的简单计算，而更少钱数的最优解已经得到了。\n",
    "\n",
    "问题的最优解包含了更小规模子问题的最优解，这是一个最优化问题能够用动态规划策略解决的必要条件\n",
    "\n",
    "例子：\n",
    "    首先减去1分硬币，剩下10分钱查表最优解是1\n",
    "    然后减去5分硬币，剩下6分钱查表最优解是2\n",
    "    最后减去10分硬币，剩下1分查表最优解是1\n",
    "    \n",
    "    那么最优几个解就是可以得到了\n",
    "    \n",
    "\n",
    "我们注意到动态规划算法的dpMakeChange并不是递归函数\n",
    "虽然这个问题是从递归算法开始解决，但最终我们得到一个更有条理的高效非递归算法\n",
    "\n",
    "动态规划中最重要的思想是：\n",
    "从最简单情况开始到达所需找零的循环\n",
    "其每一步都依靠以前的最优解来得到本步骤的最优解，直到得到答案。\n",
    "\n",
    "前面的算法已经得到了最少硬币的数量，但没有返回硬币如何组合\n",
    "\n",
    "扩展算法的思路很简单，只需要在生成最优解列表的同时跟踪记录所选择的那个硬币币值即可\n",
    "\n",
    "在得到最后的解后，减去选择的硬币币值，回溯到表格之前的部分找零，就能逐步找到每一步所选择的硬币币值"
   ]
  },
  {
   "cell_type": "code",
   "execution_count": 3,
   "id": "dramatic-ontario",
   "metadata": {},
   "outputs": [],
   "source": [
    "#代码实现\n",
    "def dpMakeChange(coinValueList,change,minCoins):\n",
    "    #从1分开始到change逐个计算最少硬币数\n",
    "    for cents in range(1,change+1):\n",
    "        #初始化一个最大值\n",
    "        coinCount=cents\n",
    "        #减去每个硬币，向后查最少硬币数，同时记录总的最少数\n",
    "        for j in [c for c in coinValueList if c <= cents]:\n",
    "            if minCoins[cents-j]+1 < coinCount:\n",
    "                coinCount=minCoins[cents-j]+1\n",
    "        #得到当前最少硬币数，记录到表中\n",
    "        minCoins[cents]=coinCount\n",
    "    #返回最后一个结果\n",
    "    print(minCoins)\n",
    "    return minCoins[change]"
   ]
  },
  {
   "cell_type": "code",
   "execution_count": 4,
   "id": "thousand-cutting",
   "metadata": {},
   "outputs": [
    {
     "name": "stdout",
     "output_type": "stream",
     "text": [
      "[0, 1, 2, 3, 4, 1, 2, 3, 4, 5, 1, 2, 3, 4, 5, 2, 3, 4, 5, 6, 2, 1, 2, 3, 4, 1, 2, 3, 4, 5, 2, 2, 3, 4, 5, 2, 3, 4, 5, 6, 3, 3, 2, 3, 4, 3, 2, 3, 4, 5, 2, 3, 3, 4, 5, 3, 3, 4, 5, 6, 3, 4, 4, 3]\n"
     ]
    },
    {
     "data": {
      "text/plain": [
       "3"
      ]
     },
     "execution_count": 4,
     "metadata": {},
     "output_type": "execute_result"
    }
   ],
   "source": [
    "dpMakeChange([1,5,10,21,25],63,[0]*64)"
   ]
  },
  {
   "cell_type": "code",
   "execution_count": 5,
   "id": "strong-istanbul",
   "metadata": {},
   "outputs": [],
   "source": [
    "#动态优化的改进版\n",
    "def dpMakeChange2(coinValueList,change,minCoins,coinsUsed):\n",
    "    for cents in range(change+1):\n",
    "        coinCount=cents\n",
    "        newCoin=1  #初始化一下新加的硬币\n",
    "        for j in [c for c in coinValueList if c<=cents]:\n",
    "            if minCoins[cents-j]+1<coinCount:\n",
    "                coinCount=minCoins[cents-j]+1\n",
    "                newCoin=j  #对应最小数量，所减的硬币\n",
    "        minCoins[cents]=coinCount\n",
    "        coinsUsed[cents]=newCoin  #记录本步骤加的硬币\n",
    "    return minCoins[change]\n",
    "\n",
    "def printCoins(coinsUsed,change):\n",
    "    coin=change\n",
    "    while coin>0:\n",
    "        thisCoin=coinsUsed[coin]\n",
    "        print(thisCoin)\n",
    "        coin=coin-thisCoin"
   ]
  },
  {
   "cell_type": "code",
   "execution_count": 7,
   "id": "falling-patent",
   "metadata": {},
   "outputs": [
    {
     "name": "stdout",
     "output_type": "stream",
     "text": [
      "3\n",
      "21\n",
      "21\n",
      "21\n"
     ]
    }
   ],
   "source": [
    "amnt=63\n",
    "clist=[1,5,10,21,25]\n",
    "coinsUsed=[0]*(amnt+1)\n",
    "coinCount=[0]*(amnt+1)\n",
    "print(dpMakeChange2(clist,amnt,coinCount,coinsUsed))\n",
    "printCoins(coinsUsed,amnt)"
   ]
  },
  {
   "cell_type": "code",
   "execution_count": 8,
   "id": "preliminary-youth",
   "metadata": {},
   "outputs": [
    {
     "name": "stdout",
     "output_type": "stream",
     "text": [
      "[1, 1, 1, 1, 1, 5, 1, 1, 1, 1, 10, 1, 1, 1, 1, 5, 1, 1, 1, 1, 10, 21, 1, 1, 1, 25, 1, 1, 1, 1, 5, 10, 1, 1, 1, 10, 1, 1, 1, 1, 5, 10, 21, 1, 1, 10, 21, 1, 1, 1, 25, 1, 10, 1, 1, 5, 10, 1, 1, 1, 10, 1, 10, 21]\n"
     ]
    }
   ],
   "source": [
    "print(coinsUsed)"
   ]
  },
  {
   "cell_type": "raw",
   "id": "incredible-climate",
   "metadata": {},
   "source": [
    "动态规划案例： 博物馆大盗问题\n",
    "我们的输入是：第一个参数是宝物的个数，第二个参数是最大承重；输入的是价值\n",
    "\n",
    "前提是宝物的重量我们是按从小到大排序的。\n",
    "分情况写出公式：\n",
    "    当宝物个数为0时，价值为0\n",
    "    当最大承重为0时，价值为0\n",
    "    当宝物的重量超出最大承重时，该宝物剔除\n",
    "    如果未有超过剩余承重空间的宝物，那么加入进行价值比较选择最大的那个，看是否加入该宝物\n",
    "    \n",
    "    最好拿出宝物个数与最大承重数的坐标进行搜素\n",
    "    \n",
    "    \n",
    "    动态规划应该是正向思维；而递归应该是逆向思维"
   ]
  },
  {
   "cell_type": "code",
   "execution_count": 9,
   "id": "framed-paris",
   "metadata": {},
   "outputs": [
    {
     "name": "stdout",
     "output_type": "stream",
     "text": [
      "29\n"
     ]
    }
   ],
   "source": [
    "#宝物的重量和价值\n",
    "tr=[None,{\"w\":2,\"v\":3},{\"w\":3,\"v\":4},{\"w\":4,\"v\":8},{\"w\":5,\"v\":8},{\"w\":9,\"v\":10}]\n",
    "\n",
    "#大盗最大承重量\n",
    "max_w=20\n",
    "\n",
    "#初始化二维表格m[(i,w)]\n",
    "#表示前i个宝物中，最大重量w的组合，所得到的最大价值\n",
    "#当i什么都不取，或w上限为0，价值为0\n",
    "m={(i,w):0 for i in range(len(tr)) \n",
    "              for w in range(max_w+1)}\n",
    "\n",
    "\n",
    "\n",
    "#逐个填写二维表格\n",
    "for i in range(1,len(tr)):\n",
    "    for w in range(1,max_w+1):\n",
    "        if tr[i][\"w\"] > w:  #装不下第i个宝物\n",
    "            m[(i,w)]=m[(i-1,w)]\n",
    "        else:\n",
    "            m[(i,w)]=max(m[(i-1,w)],m[(i-1,w-tr[i][\"w\"])]+tr[i][\"v\"])\n",
    "            \n",
    "#输出结果\n",
    "print(m[(len(tr)-1,max_w)])"
   ]
  },
  {
   "cell_type": "code",
   "execution_count": 18,
   "id": "impaired-removal",
   "metadata": {},
   "outputs": [
    {
     "name": "stdout",
     "output_type": "stream",
     "text": [
      "29\n"
     ]
    }
   ],
   "source": [
    "#使用递归算法\n",
    "tr={(2,3),(3,4),(4,8),(5,8),(9,10)}\n",
    "max_w=20\n",
    "\n",
    "#初始化记忆表格\n",
    "#key是：宝物组合，最大重量；value是最大价值\n",
    "m={}\n",
    "\n",
    "def thief(tr,w):\n",
    "    if tr==set() or w==0:\n",
    "        m[(tuple(tr),w)]=0 #tuple是key的要求\n",
    "        return 0\n",
    "    elif (tuple(tr),w) in m:\n",
    "        return m[(tuple(tr),w)]\n",
    "    else:\n",
    "        vmax=0\n",
    "        for t in tr:\n",
    "            if t[0] <=w:\n",
    "                #逐个从集合中去掉某个宝物，递归调用\n",
    "                #选出所有价值中的最大值\n",
    "                v=thief(tr-{t},w-t[0]) +t[1]\n",
    "                vmax=max(vmax,v)\n",
    "        m[(tuple(tr),w)]=vmax  \n",
    "    return vmax\n",
    "    \n",
    "    \n",
    "print(thief(tr,max_w))"
   ]
  },
  {
   "cell_type": "raw",
   "id": "convertible-david",
   "metadata": {},
   "source": [
    "给定一个长度为N的区域，及4种不同长度的瓷砖：灰瓷砖(长为1格)、红瓷砖(长为2格)、绿瓷砖(长为3格)与蓝瓷砖(长为4格)，求所有不同的铺满整个区域的方法数。\n",
    "铺瓷砖递归思路：\n",
    "长度为N的区域，铺装方法total(N)=\n",
    "第一块铺灰：total(N-1)\n",
    "+第一块铺红(2),total(N-2)\n",
    "+第一块铺绿(3),total(N-3)\n",
    "+第一块铺蓝(4),total(N-4)\n"
   ]
  },
  {
   "cell_type": "code",
   "execution_count": 6,
   "id": "contrary-hostel",
   "metadata": {},
   "outputs": [
    {
     "name": "stdout",
     "output_type": "stream",
     "text": [
      "5\n",
      "15\n"
     ]
    }
   ],
   "source": [
    "#铺瓷砖递归版本\n",
    "n=int(input())\n",
    "cache={0:1,1:1,2:2,3:4,4:8}\n",
    "# 第一块是1，total(n-1)\n",
    "#第一块是2，total(n-2)\n",
    "#第一块是4，total(n-4)\n",
    "\n",
    "def total(n):\n",
    "    if n<=4:\n",
    "        return cache[n]\n",
    "    elif n in cache:\n",
    "        return cache[n]\n",
    "    else:\n",
    "        cache[n]=total(n-1)+total(n-2)+total(n-3)+total(n-4)\n",
    "        return cache[n]\n",
    "print(total(n))"
   ]
  },
  {
   "cell_type": "code",
   "execution_count": 8,
   "id": "martial-index",
   "metadata": {},
   "outputs": [
    {
     "name": "stdout",
     "output_type": "stream",
     "text": [
      "20\n",
      "283953\n"
     ]
    }
   ],
   "source": [
    "n=int(input())\n",
    "cache={0:1,1:1,2:2,3:4,4:8}\n",
    "def total2(n):\n",
    "    if n<=4:\n",
    "        return cache[n]\n",
    "    else:\n",
    "        for i in range(5,n+1):\n",
    "            cache[i]=cache[i-1]+cache[i-2]+cache[i-3]+cache[i-4]\n",
    "        return cache[n]\n",
    "print(total2(n))"
   ]
  },
  {
   "cell_type": "code",
   "execution_count": 1,
   "id": "spare-transfer",
   "metadata": {},
   "outputs": [],
   "source": [
    "#另一种方法进行求解：\n",
    "def tiling(N):\n",
    "    '''\n",
    "    N 要铺瓷砖的长度\n",
    "    '''\n",
    "    num=0   #创建并初始化铺瓷砖长度为N的瓷砖需要的方法种类\n",
    "    all_methods=[0]*(N+1) #新建一个列表，记录每个长度用4种颜色的瓷砖铺的方法，初始化均为0\n",
    "    tiles_length=[1,2,3,4]  #四种颜色的瓷砖分别对应四种长度\n",
    "    if N==0:\n",
    "        return 1\n",
    "    elif all_methods[N] !=0:\n",
    "        return all_methods[N]\n",
    "    else:\n",
    "        #遍历从0开始的每个长度用4种颜色的瓷砖铺的所有方法，并记录到列表all_methods当中\n",
    "        \n",
    "        for i in [t for t in tiles_length if t<=N]:\n",
    "            num+=tiling(N-i)\n",
    "            all_methods[N]=num\n",
    "    return num"
   ]
  },
  {
   "cell_type": "code",
   "execution_count": 2,
   "id": "lined-payday",
   "metadata": {},
   "outputs": [
    {
     "data": {
      "text/plain": [
       "15"
      ]
     },
     "execution_count": 2,
     "metadata": {},
     "output_type": "execute_result"
    }
   ],
   "source": [
    "N=5\n",
    "tiling(N)"
   ]
  },
  {
   "cell_type": "code",
   "execution_count": 3,
   "id": "requested-sullivan",
   "metadata": {},
   "outputs": [],
   "source": [
    "#递归解决的另一种方法\n",
    "def tiling2(N):\n",
    "    if N==1:\n",
    "        return 1\n",
    "    if N==2:\n",
    "        return 1+tiling2(N-1)\n",
    "    elif N==3:\n",
    "        return 1+tiling2(N-1)+tiling2(N-2)\n",
    "    elif N==4:\n",
    "        return 1+tiling2(N-1)+tiling2(N-2)+tiling2(N-3)\n",
    "    else:\n",
    "        return tiling2(N-1)+tiling2(N-2)+tiling2(N-3)+tiling2(N-4)\n",
    "    "
   ]
  },
  {
   "cell_type": "code",
   "execution_count": 4,
   "id": "numerous-affect",
   "metadata": {},
   "outputs": [
    {
     "data": {
      "text/plain": [
       "15"
      ]
     },
     "execution_count": 4,
     "metadata": {},
     "output_type": "execute_result"
    }
   ],
   "source": [
    "N=5\n",
    "tiling2(N)"
   ]
  },
  {
   "cell_type": "raw",
   "id": "dated-patrick",
   "metadata": {},
   "source": [
    "老师想给孩子们分发糖果，有 N 个孩子站成了一条直线，老师会根据每个孩子的表现，预先给他们评分。\n",
    "\n",
    "你需要按照以下要求，帮助老师给这些孩子分发糖果：\n",
    "\n",
    "每个孩子至少分配到 1 个糖果。\n",
    "相邻的孩子中，评分高的孩子必须获得更多的糖果。\n",
    "那么这样下来，老师至少需要准备多少颗糖果呢？\n",
    "\n",
    "分发糖果：\n",
    "记录评分ratings,和对应的糖果数cds\n",
    "将小朋友的评分按照次序加入：\n",
    "第一个，无论多少分，只给1颗糖：\n",
    "后续的：\n",
    "如果分数高于前一个，则比前一个多1颗糖果；\n",
    "如果分数与前一个相同，则给最低标准1颗糖果；\n",
    "如果分数低于前一个，则给最低标准1颗糖果；\n",
    "但是，如果前一个仅有1颗糖果，\n",
    "就需要加1颗糖，并向前继续加\n",
    "直到评分不递增，或者糖果有多\n"
   ]
  },
  {
   "cell_type": "code",
   "execution_count": 15,
   "id": "equivalent-supplement",
   "metadata": {},
   "outputs": [],
   "source": [
    "def candy(ratings):\n",
    "    cds=[1]*len(ratings)  #糖果列表\n",
    "    for i in range(1,len(ratings)):\n",
    "        if ratings[i-1]<ratings[i]:\n",
    "            cds[i]=cds[i-1]+1\n",
    "        elif ratings[i-1]==ratings[i]:\n",
    "            cds[i]=1\n",
    "        else:\n",
    "            cds[i]=1\n",
    "            if cds[i-1]==1:\n",
    "                for k in range(i-1,-1,-1):\n",
    "                    cds[k]+=1\n",
    "                    if k>0 and (ratings[k]>=ratings[k-1] or cds[k]<cds[k-1]):\n",
    "                        break\n",
    "    print(cds)\n",
    "    print(sum(cds))"
   ]
  },
  {
   "cell_type": "code",
   "execution_count": 16,
   "id": "everyday-establishment",
   "metadata": {},
   "outputs": [
    {
     "name": "stdout",
     "output_type": "stream",
     "text": [
      "[2, 1, 2, 1, 2, 1, 2, 3, 1]\n",
      "15\n"
     ]
    }
   ],
   "source": [
    "ratings=[2,1,3,3,4,2,4,5,1]\n",
    "candy(ratings)"
   ]
  },
  {
   "cell_type": "raw",
   "id": "roman-beads",
   "metadata": {},
   "source": [
    "给定一个表达式字符串，求出按不同的求值顺序可能得到的所有结果\n",
    "表达式按不同顺序求值递归：\n",
    "        以后缀表达式求值作为基础\n",
    "        calc(nums,ops,numstk,opstk)\n",
    "        nums:剩余操作数列表\n",
    "        ops:剩余操作符列表\n",
    "        numstk:当前的操作数栈\n",
    "        opstk:当前的运算符栈\n",
    "        递归结束条件：nums中没有操作数了，连续计算得到值\n",
    "        结果加入结合results.自动去重。\n",
    "        \n",
    "        递归：对于栈中的子表达式\n",
    "        不计算，再入一个操作数和一个操作符，递归调用\n",
    "        计算1次，两次....分别再入一个操作数和一个操作符，递归调用。"
   ]
  },
  {
   "cell_type": "code",
   "execution_count": 12,
   "id": "transsexual-cradle",
   "metadata": {},
   "outputs": [],
   "source": [
    "def findWays(expr):\n",
    "    '''用于将字符串转为数字与运算符'''\n",
    "    nums,pos=[],[]\n",
    "    num=0\n",
    "    for c in expr:\n",
    "        if \"0\"<=c<=\"9\":\n",
    "            num=num*10+ord(c)-48\n",
    "        else:\n",
    "            pos.append(c)\n",
    "            nums.append(num)\n",
    "            num=0\n",
    "    else:\n",
    "        nums.append(num)\n",
    "\n",
    "    def oper(number1,number2,operand):\n",
    "        opers=\"+-*\"\n",
    "        if operand==opers[0]:\n",
    "            return number1+number2\n",
    "        elif operand==opers[1]:\n",
    "            return number1-number2\n",
    "\n",
    "        elif operand==opers[2]:\n",
    "            return number1*number2\n",
    "\n",
    "    def calc(low,high):\n",
    "        if low==high:\n",
    "            return [nums[low]]\n",
    "        temp=[]\n",
    "        for i in range(low,high):\n",
    "\n",
    "            for a in calc(low,i):\n",
    "                for b in calc(i+1,high):\n",
    "\n",
    "                    temp.append(oper(a,b,pos[i]))\n",
    "                    # print(a,b,temp)\n",
    "        return temp\n",
    "    res=calc(0,len(nums)-1)\n",
    "    #import pdb; pdb.set_trace()  #用于debug\n",
    "    res=list(set(res))\n",
    "    res.sort()\n",
    "    res=[str(i) for i in res]\n",
    "    return \",\".join(res)"
   ]
  },
  {
   "cell_type": "code",
   "execution_count": 13,
   "id": "accredited-rocket",
   "metadata": {},
   "outputs": [
    {
     "name": "stdout",
     "output_type": "stream",
     "text": [
      "8*9-7+6\n",
      "-32,22,59,64,71\n"
     ]
    }
   ],
   "source": [
    "expr=input()\n",
    "print(findWays(expr))"
   ]
  },
  {
   "cell_type": "code",
   "execution_count": 4,
   "id": "incorrect-waste",
   "metadata": {},
   "outputs": [
    {
     "name": "stdout",
     "output_type": "stream",
     "text": [
      "[8, 9, 7, 6]\n"
     ]
    }
   ],
   "source": [
    "expr=\"8*9-7+6\"\n",
    "a,b=[],[]\n",
    "n=0\n",
    "for c in expr:\n",
    "    if \"0\"<=c<=\"9\":\n",
    "        num=n*10+ord(c)-48\n",
    "    else:\n",
    "        b.append(c)\n",
    "        a.append(num)\n",
    "        n=0\n",
    "else:\n",
    "    a.append(num)\n",
    "print(a)"
   ]
  },
  {
   "cell_type": "code",
   "execution_count": 5,
   "id": "military-furniture",
   "metadata": {},
   "outputs": [
    {
     "name": "stdout",
     "output_type": "stream",
     "text": [
      "[8, 9, 7, 6]\n",
      "['*', '-', '+']\n"
     ]
    }
   ],
   "source": [
    "expr=\"8*9-7+6\"\n",
    "a,b=[],[]\n",
    "n=0\n",
    "for c in expr:\n",
    "    if \"0\"<=c<=\"9\":\n",
    "        a.append(int(c))\n",
    "    else:\n",
    "        b.append(c)\n",
    "print(a)\n",
    "print(b)"
   ]
  },
  {
   "cell_type": "code",
   "execution_count": 14,
   "id": "assured-actor",
   "metadata": {},
   "outputs": [
    {
     "name": "stdout",
     "output_type": "stream",
     "text": [
      "1\n",
      "2\n"
     ]
    }
   ],
   "source": [
    "for i in range(1,3):\n",
    "    print(i)"
   ]
  },
  {
   "cell_type": "raw",
   "id": "packed-baker",
   "metadata": {},
   "source": [
    "顺序查找：\n",
    "    如果数据项保存在如列表这样的集合中，我们会称这些数据项具有线性或者顺序关系\n",
    "    在list中，这些数据项的存储位置为下标index，这些下标都是有序的整数\n",
    "    通过下标，我们就可以按照顺序来访问和查找数据项，即为顺序查找。\n",
    "    也既是说这是指针的意义。index\n",
    "    "
   ]
  },
  {
   "cell_type": "code",
   "execution_count": 15,
   "id": "sunset-championship",
   "metadata": {},
   "outputs": [],
   "source": [
    "def ss(alist,item):\n",
    "    pos=0\n",
    "    found=False\n",
    "    \n",
    "    while pos<len(alist) and not found:\n",
    "        if alist[pos]==item:\n",
    "            found=True\n",
    "        else:\n",
    "            pos+=1\n",
    "    return found\n"
   ]
  },
  {
   "cell_type": "code",
   "execution_count": 16,
   "id": "responsible-grant",
   "metadata": {},
   "outputs": [
    {
     "data": {
      "text/plain": [
       "False"
      ]
     },
     "execution_count": 16,
     "metadata": {},
     "output_type": "execute_result"
    }
   ],
   "source": [
    "alist=[1,2,32,8,17,19,42,13,0]\n",
    "item=3\n",
    "ss(alist,item)"
   ]
  },
  {
   "cell_type": "code",
   "execution_count": 17,
   "id": "mounted-wrapping",
   "metadata": {},
   "outputs": [
    {
     "data": {
      "text/plain": [
       "True"
      ]
     },
     "execution_count": 17,
     "metadata": {},
     "output_type": "execute_result"
    }
   ],
   "source": [
    "item=13\n",
    "ss(alist,item)"
   ]
  },
  {
   "cell_type": "code",
   "execution_count": 1,
   "id": "fluid-examination",
   "metadata": {},
   "outputs": [],
   "source": [
    "import torch"
   ]
  },
  {
   "cell_type": "code",
   "execution_count": 2,
   "id": "linear-animal",
   "metadata": {},
   "outputs": [
    {
     "data": {
      "text/plain": [
       "'1.1.0'"
      ]
     },
     "execution_count": 2,
     "metadata": {},
     "output_type": "execute_result"
    }
   ],
   "source": [
    "torch.__version__"
   ]
  },
  {
   "cell_type": "code",
   "execution_count": 3,
   "id": "tired-swedish",
   "metadata": {},
   "outputs": [
    {
     "data": {
      "text/plain": [
       "True"
      ]
     },
     "execution_count": 3,
     "metadata": {},
     "output_type": "execute_result"
    }
   ],
   "source": [
    "torch.cuda.is_available()"
   ]
  },
  {
   "cell_type": "code",
   "execution_count": 4,
   "id": "tired-target",
   "metadata": {},
   "outputs": [
    {
     "name": "stdout",
     "output_type": "stream",
     "text": [
      "Package                Version\n",
      "---------------------- -------------------\n",
      "absl-py                0.11.0Note: you may need to restart the kernel to use updated packages.\n",
      "apriori                1.0.0\n",
      "argon2-cffi            20.1.0\n",
      "asn1crypto             1.3.0\n",
      "astunparse             1.6.3\n",
      "async-generator        1.10\n",
      "attrs                  20.3.0\n",
      "backcall               0.2.0\n",
      "beautifulsoup4         4.9.3\n",
      "bleach                 3.2.1\n",
      "bs4                    0.0.1\n",
      "cachetools             4.2.0\n",
      "certifi                2020.12.5\n",
      "cffi                   1.14.0\n",
      "chardet                3.0.4\n",
      "click                  8.0.0\n",
      "cloudpickle            1.6.0\n",
      "colorama               0.4.4\n",
      "conda                  4.9.2\n",
      "conda-package-handling 1.6.0\n",
      "cryptography           2.8\n",
      "cssselect              1.1.0\n",
      "\n",
      "cycler                 0.10.0\n",
      "dask                   2021.7.0\n",
      "decorator              4.4.2\n",
      "defusedxml             0.6.0\n",
      "distributed            2021.7.0\n",
      "efficient-apriori      1.1.1\n",
      "entrypoints            0.3\n",
      "et-xmlfile             1.0.1\n",
      "fsspec                 2021.7.0\n",
      "gast                   0.3.3\n",
      "google-auth            1.24.0\n",
      "google-auth-oauthlib   0.4.2\n",
      "google-pasta           0.2.0\n",
      "grpcio                 1.34.1\n",
      "h5py                   2.10.0\n",
      "HeapDict               1.0.1\n",
      "helper                 2.5.0\n",
      "idna                   2.8\n",
      "imbalanced-learn       0.7.0\n",
      "imblearn               0.0\n",
      "importlib-metadata     2.1.1\n",
      "ipykernel              5.4.3\n",
      "ipython                7.19.0\n",
      "ipython-genutils       0.2.0\n",
      "ipywidgets             7.6.3\n",
      "jedi                   0.18.0\n",
      "jieba                  0.42.1\n",
      "Jinja2                 2.11.2\n",
      "joblib                 1.0.0\n",
      "jsonschema             3.2.0\n",
      "jupyter-client         6.1.11\n",
      "jupyter-core           4.7.0\n",
      "jupyterlab-pygments    0.1.2\n",
      "jupyterlab-widgets     1.0.0\n",
      "Keras-Preprocessing    1.1.2\n",
      "kiwisolver             1.3.1\n",
      "llvmlite               0.36.0\n",
      "locket                 0.2.1\n",
      "lxml                   4.6.3\n",
      "Markdown               3.3.3\n",
      "MarkupSafe             1.1.1\n",
      "matplotlib             3.3.3\n",
      "matrixprofile          1.1.10\n",
      "menuinst               1.4.16\n",
      "mistune                0.8.4\n",
      "mpmath                 1.2.1\n",
      "msgpack                1.0.2\n",
      "nbclient               0.5.1\n",
      "nbconvert              6.0.7\n",
      "nbformat               5.1.0\n",
      "nest-asyncio           1.4.3\n",
      "nltk                   3.6.2\n",
      "notebook               6.2.0\n",
      "numba                  0.53.1\n",
      "numpy                  1.18.5\n",
      "oauthlib               3.1.0\n",
      "openpyxl               3.0.7\n",
      "opt-einsum             3.3.0\n",
      "packaging              20.8\n",
      "pandas                 1.2.1\n",
      "pandocfilters          1.4.3\n",
      "parso                  0.8.1\n",
      "partd                  1.2.0\n",
      "patsy                  0.5.1\n",
      "pickleshare            0.7.5\n",
      "Pillow                 8.1.0\n",
      "pip                    21.2.2\n",
      "prettytable            2.1.0\n",
      "pro                    0.1.2\n",
      "prometheus-client      0.9.0\n",
      "prompt-toolkit         3.0.10\n",
      "protobuf               3.11.2\n",
      "psutil                 5.8.0\n",
      "pyasn1                 0.4.8\n",
      "pyasn1-modules         0.2.8\n",
      "pycosat                0.6.3\n",
      "pycparser              2.19\n",
      "pyecharts              1.9.0\n",
      "pyfpgrowth             1.0\n",
      "Pygments               2.7.4\n",
      "pynndescent            0.5.2\n",
      "pyOpenSSL              19.1.0\n",
      "pyparsing              2.4.7\n",
      "pyquery                1.4.3\n",
      "pyrsistent             0.17.3\n",
      "PySocks                1.7.1\n",
      "python-dateutil        2.8.1\n",
      "pytz                   2020.5\n",
      "PyWavelets             1.1.1\n",
      "pywin32                227\n",
      "pywinpty               0.5.7\n",
      "PyYAML                 5.4.1\n",
      "pyzmq                  20.0.0\n",
      "regex                  2021.4.4\n",
      "requests               2.22.0\n",
      "requests-oauthlib      1.3.0\n",
      "rsa                    4.7\n",
      "ruamel_yaml            0.15.87\n",
      "scikit-learn           0.24.1\n",
      "scikit-plot            0.3.7\n",
      "scipy                  1.4.1\n",
      "seaborn                0.11.1\n",
      "selenium               3.141.0\n",
      "Send2Trash             1.5.0\n",
      "setuptools             45.2.0.post20200210\n",
      "shap                   0.39.0\n",
      "simplejson             3.17.2\n",
      "six                    1.14.0\n",
      "slicer                 0.0.7\n",
      "sortedcontainers       2.4.0\n",
      "soupsieve              2.2.1\n",
      "statsmodels            0.12.2\n",
      "stumpy                 1.8.0\n",
      "sympy                  1.8\n",
      "tblib                  1.7.0\n",
      "tensorboard            2.4.0\n",
      "tensorboard-plugin-wit 1.7.0\n",
      "termcolor              1.1.0\n",
      "terminado              0.9.2\n",
      "testpath               0.4.4\n",
      "threadpoolctl          2.1.0\n",
      "toolz                  0.11.1\n",
      "torch                  1.1.0\n",
      "torchvision            0.3.0\n",
      "tornado                6.1\n",
      "tqdm                   4.42.1\n",
      "traitlets              5.0.5\n",
      "tsfresh                0.16.0\n",
      "tushare                1.2.64\n",
      "typing-extensions      3.7.4.3\n",
      "umap-learn             0.5.1\n",
      "urllib3                1.25.8\n",
      "watermark              2.2.0\n",
      "wcwidth                0.2.5\n",
      "webencodings           0.5.1\n",
      "websocket-client       1.1.0\n",
      "Werkzeug               1.0.1\n",
      "wheel                  0.34.2\n",
      "widgetsnbextension     3.5.1\n",
      "win-inet-pton          1.1.0\n",
      "wincertstore           0.2\n",
      "wrapt                  1.12.1\n",
      "xgboost                1.4.2\n",
      "zict                   2.0.0\n",
      "zipp                   3.4.0\n"
     ]
    }
   ],
   "source": [
    "pip list"
   ]
  },
  {
   "cell_type": "code",
   "execution_count": null,
   "id": "abandoned-egyptian",
   "metadata": {},
   "outputs": [],
   "source": []
  }
 ],
 "metadata": {
  "kernelspec": {
   "display_name": "Python 3",
   "language": "python",
   "name": "python3"
  },
  "language_info": {
   "codemirror_mode": {
    "name": "ipython",
    "version": 3
   },
   "file_extension": ".py",
   "mimetype": "text/x-python",
   "name": "python",
   "nbconvert_exporter": "python",
   "pygments_lexer": "ipython3",
   "version": "3.7.6"
  }
 },
 "nbformat": 4,
 "nbformat_minor": 5
}
