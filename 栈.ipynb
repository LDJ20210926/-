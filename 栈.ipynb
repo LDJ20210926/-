{
 "cells": [
  {
   "cell_type": "raw",
   "id": "talented-survey",
   "metadata": {},
   "source": [
    "栈：\n",
    "栈的特点：\n",
    "先进后出\n",
    "后进先出\n",
    "可以使用链表进行实现\n",
    "\n",
    "队列是只允许在一端进行插入操作，而在另一端进行删除操作的线性表。\n",
    "队列是先进先出的\n",
    "list就是顺序表"
   ]
  },
  {
   "cell_type": "code",
   "execution_count": null,
   "id": "loving-consumer",
   "metadata": {},
   "outputs": [],
   "source": [
    "class Stack(object):\n",
    "    '''栈'''\n",
    "    def __init__(self):\n",
    "        self.__list=[]\n",
    "        \n",
    "    def push(self,item):\n",
    "        '''添加一个新的元素item到栈顶'''\n",
    "        self.__list.append(item)\n",
    "       \n",
    "    \n",
    "    \n",
    "    def pop(self):\n",
    "        '''弹出栈顶元素'''\n",
    "        return self.__list.pop()\n",
    "    \n",
    "    \n",
    "    def peek(self):\n",
    "        '''返回栈顶元素'''\n",
    "        if self.__list:\n",
    "            return self.__list[-1]\n",
    "        else:\n",
    "            return None\n",
    "        \n",
    "    \n",
    "    def is_empty(self):\n",
    "        '''判断栈是否为空'''\n",
    "        return self.__list == []\n",
    "    \n",
    "    def size(self):\n",
    "        \n",
    "        '''返回栈的元素个数'''\n",
    "        return len(self.__list)\n",
    "        \n",
    "        "
   ]
  },
  {
   "cell_type": "code",
   "execution_count": null,
   "id": "impaired-wonder",
   "metadata": {},
   "outputs": [],
   "source": [
    "s=Stack()\n",
    "s.push(1)\n",
    "s.push(2)\n",
    "s.push(3)\n",
    "s.push(4)\n",
    "print(s.pop())\n",
    "print(s.pop())\n",
    "print(s.pop())\n",
    "print(s.pop())"
   ]
  },
  {
   "cell_type": "code",
   "execution_count": null,
   "id": "worth-albert",
   "metadata": {},
   "outputs": [],
   "source": [
    "class Queue(object):\n",
    "    '''队列'''\n",
    "    \n",
    "    def __init__(self):\n",
    "        self.__list=[]\n",
    "        \n",
    "    def enqueue(self,item):\n",
    "        '''往队列中添加一个item元素'''\n",
    "        self.__list.append(item)\n",
    "        \n",
    "    def dequeue(self):\n",
    "        '''从队列头部删除一个元素'''\n",
    "        return self.__list.pop(0)\n",
    "    \n",
    "    def is_empty(self):\n",
    "        '''判断一个队列是否为空'''\n",
    "        return self.__list==[]\n",
    "    \n",
    "    def size(self):\n",
    "        '''返回队列大小'''\n",
    "        return len(self.__list)"
   ]
  },
  {
   "cell_type": "code",
   "execution_count": null,
   "id": "quiet-douglas",
   "metadata": {},
   "outputs": [],
   "source": [
    "q=Queue()\n",
    "q.enqueue(1)\n",
    "q.enqueue(2)\n",
    "q.enqueue(3)\n",
    "q.enqueue(4)\n",
    "print(q.dequeue())\n",
    "print(q.dequeue())\n",
    "print(q.dequeue())\n",
    "print(q.dequeue())"
   ]
  },
  {
   "cell_type": "raw",
   "id": "neural-hamilton",
   "metadata": {},
   "source": [
    "双端队列：\n",
    "两头可进可出；也就是两头都是栈，后进先出"
   ]
  },
  {
   "cell_type": "code",
   "execution_count": null,
   "id": "published-trout",
   "metadata": {},
   "outputs": [],
   "source": [
    "class Deque(object):\n",
    "    '''双端队列'''\n",
    "    \n",
    "    def __init__(self):\n",
    "        self.__list=[]\n",
    "        \n",
    "    def add_front(self,item):\n",
    "        '''往队列头部添加一个item元素'''\n",
    "        self.__list.insert(0,item)\n",
    "        \n",
    "    def add_rear(self,item):\n",
    "        '''往队列尾部添加一个item元素'''\n",
    "        self.__list.append(item)\n",
    "        \n",
    "    def pop_front(self):\n",
    "        '''从队列头部删除一个元素'''\n",
    "        return self.__list.pop(0)\n",
    "    \n",
    "    def pop_rear(self):\n",
    "        '''从队列尾部删除一个元素'''\n",
    "        return self.__list.pop()\n",
    "    \n",
    "    def is_empty(self):\n",
    "        '''判断一个队列是否为空'''\n",
    "        return self.__list==[]\n",
    "    \n",
    "    def size(self):\n",
    "        '''返回队列的大小'''\n",
    "        \n",
    "        return len(self.__list)"
   ]
  },
  {
   "cell_type": "code",
   "execution_count": null,
   "id": "considerable-assumption",
   "metadata": {},
   "outputs": [],
   "source": [
    "d=Deque()\n",
    "d.add_front(1)\n",
    "d.add_front(2)\n",
    "d.add_front(3)\n",
    "d.add_front(4)\n",
    "d.add_rear(5)\n",
    "d.add_rear(6)\n",
    "d.add_rear(7)\n",
    "d.add_rear(8)\n",
    "print(d.size())\n",
    "print(d.pop_front())\n",
    "print(d.pop_front())\n",
    "print(d.pop_rear())\n",
    "print(d.pop_rear())"
   ]
  },
  {
   "cell_type": "raw",
   "id": "sporting-colombia",
   "metadata": {},
   "source": [
    "排序算法的稳定性：\n",
    "(4,1),(3,1),(3,7),(5,6)\n",
    "要求按照第一个数的大小排序\n",
    "如果(3,1),(3,7)的排序结果与原始中的一致，那么也就是说是稳定的。\n",
    "\n",
    "\n",
    "冒泡排序：\n",
    "是稳定的\n",
    "选择排序：\n",
    "如果按最大值来做是不稳定的\n",
    "\n",
    "插入算法：\n",
    "是稳定的\n",
    "\n",
    "希尔排序：\n",
    "不是稳定的\n",
    "\n",
    "快速排序：\n",
    "不是稳定的\n",
    "\n",
    "\n",
    "归并排序：\n",
    "是稳定的\n",
    "\n",
    "二分查找：\n",
    "得有序，并且是列表"
   ]
  },
  {
   "cell_type": "code",
   "execution_count": null,
   "id": "selective-taylor",
   "metadata": {},
   "outputs": [],
   "source": [
    "def bubble_sort(alist):\n",
    "    '''冒泡排序'''\n",
    "    n=len(alist)\n",
    "    for j in range(n-1):\n",
    "        count=0\n",
    "        for i in range(n-1-j):\n",
    "            if alist[i]>alist[i+1]:\n",
    "                alist[i],alist[i+1]=alist[i+1],alist[i]\n",
    "                count+=1\n",
    "        if count==0:\n",
    "            return\n",
    "    return alist\n",
    "                "
   ]
  },
  {
   "cell_type": "code",
   "execution_count": null,
   "id": "flush-amsterdam",
   "metadata": {},
   "outputs": [],
   "source": [
    "b1=[54,26,93,17,77,31,44,55,20]\n",
    "print(b1)\n",
    "bubble_sort(b1)"
   ]
  },
  {
   "cell_type": "code",
   "execution_count": null,
   "id": "independent-cover",
   "metadata": {},
   "outputs": [],
   "source": [
    "def select_sort(alist):\n",
    "    '''选择排序'''\n",
    "    n=len(alist)\n",
    "    for j in range(n-1):\n",
    "        min_index=j\n",
    "        for i in range(j+1,n):\n",
    "            if alist[min_index] > alist[i]:\n",
    "                min_index=i\n",
    "                \n",
    "        alist[j],alist[min_index]=alist[min_index],alist[j]\n",
    "    return alist       "
   ]
  },
  {
   "cell_type": "code",
   "execution_count": null,
   "id": "universal-scenario",
   "metadata": {},
   "outputs": [],
   "source": [
    "b1=[54,26,93,17,77,31,44,55,20]\n",
    "print(b1)\n",
    "select_sort(b1)"
   ]
  },
  {
   "cell_type": "code",
   "execution_count": null,
   "id": "liable-creator",
   "metadata": {},
   "outputs": [],
   "source": [
    "def insert_sort(alist):\n",
    "    '''插入排序'''\n",
    "    n=len(alist)\n",
    "    #从右边的无序序列中取出多少个元素执行这样的过程\n",
    "    for j in range(1,n):\n",
    "        i=j\n",
    "        #执行从右边的无序序列中取出第一个元素，即i位置的元素，然后将其插入到前面的正确位置中\n",
    "        while i>0:\n",
    "            if alist[i]<alist[i-1]:\n",
    "                alist[i],alist[i-1]=alist[i-1],alist[i]\n",
    "                i -=1\n",
    "            else:\n",
    "                break\n",
    "    return alist"
   ]
  },
  {
   "cell_type": "code",
   "execution_count": null,
   "id": "verbal-montreal",
   "metadata": {},
   "outputs": [],
   "source": [
    "b1=[54,26,93,17,77,31,44,55,20]\n",
    "print(b1)\n",
    "insert_sort(b1)"
   ]
  },
  {
   "cell_type": "code",
   "execution_count": null,
   "id": "tested-makeup",
   "metadata": {},
   "outputs": [],
   "source": [
    "def shell_sort(alist):\n",
    "    '''希尔排序'''\n",
    "    n=len(alist)\n",
    "    gap=n//2\n",
    "    \n",
    "    #gap变化到0之前，插入算法执行的次数\n",
    "    while gap>0:\n",
    "        #插入算法，与普通插入算法的区别在于gap步长\n",
    "        for j in range(gap,n):\n",
    "            i=j\n",
    "            while i>0:\n",
    "                if alist[i]<alist[i-gap]:\n",
    "                    alist[i],alist[i-gap]=alist[i-gap],alist[i]\n",
    "                    i-=gap\n",
    "                else:\n",
    "                    break\n",
    "        #缩短gap步长\n",
    "        gap//=2\n",
    "    \n",
    "    return alist"
   ]
  },
  {
   "cell_type": "code",
   "execution_count": null,
   "id": "charitable-painting",
   "metadata": {},
   "outputs": [],
   "source": [
    "b1=[54,26,93,17,77,31,44,55,20]\n",
    "print(b1)\n",
    "shell_sort(b1)"
   ]
  },
  {
   "cell_type": "code",
   "execution_count": null,
   "id": "strange-summit",
   "metadata": {},
   "outputs": [],
   "source": [
    "def quick_sort(alist,first,last):\n",
    "    '''快速排序'''\n",
    "    if first >= last:\n",
    "        return\n",
    "    \n",
    "    low=first\n",
    "    high=last\n",
    "    mid_value=alist[first]\n",
    "    while low<high:\n",
    "        #high左移\n",
    "        while low < high and alist[high] >= mid_value:\n",
    "            high -=1\n",
    "        alist[low]=alist[high]\n",
    "        \n",
    "        while low<high and alist[low]< mid_value:\n",
    "            low +=1\n",
    "        alist[high]=alist[low]\n",
    "        \n",
    "    #从循环退出时，low==high\n",
    "    alist[low]=mid_value\n",
    "    \n",
    "    #对low左边的列表执行快速排序\n",
    "    quick_sort(alist,first,low-1)\n",
    "    #对low右边的列表执行快速排序\n",
    "    quick_sort(alist,low+1,last)\n",
    "\n",
    "    return alist\n",
    "  "
   ]
  },
  {
   "cell_type": "code",
   "execution_count": null,
   "id": "sharp-bolivia",
   "metadata": {},
   "outputs": [],
   "source": [
    "b1=[54,26,93,17,77,31,44,55,20]\n",
    "print(b1)\n",
    "quick_sort(b1,0,len(b1)-1)"
   ]
  },
  {
   "cell_type": "code",
   "execution_count": null,
   "id": "closed-september",
   "metadata": {},
   "outputs": [],
   "source": [
    "def merge_sort(alist):\n",
    "    '''归并算法'''\n",
    "    n=len(alist)\n",
    "    if n <=1:\n",
    "        return alist\n",
    "    mid=n//2\n",
    "    #left 采用归并排序后形成的有序的新的列表\n",
    "    left_li=merge_sort(alist[:mid])\n",
    "    #right 采用归并排序后形成的有序的新的列表\n",
    "    right_li=merge_sort(alist[mid:])\n",
    "    \n",
    "    #将两个有序的子序列合并为一个新的整体\n",
    "    #merge(left,right)\n",
    "    left_pointer,right_pointer=0,0\n",
    "    result=[]\n",
    "    \n",
    "    while left_pointer < len(left_li) and right_pointer < len(right_li):\n",
    "        if left_li[left_pointer] < right_li[right_pointer]:\n",
    "            result.append(left_li[left_pointer])\n",
    "            left_pointer +=1\n",
    "        else:\n",
    "            result.append(right_li[right_pointer])\n",
    "            right_pointer +=1\n",
    "            \n",
    "    result += left_li[left_pointer:]\n",
    "    result += right_li[right_pointer:]\n",
    "    return result\n",
    "    "
   ]
  },
  {
   "cell_type": "code",
   "execution_count": null,
   "id": "willing-painting",
   "metadata": {},
   "outputs": [],
   "source": [
    "b1=[54,26,93,17,77,31,44,55,20]\n",
    "print(b1)\n",
    "merge_sort(b1)"
   ]
  },
  {
   "cell_type": "code",
   "execution_count": null,
   "id": "scientific-facial",
   "metadata": {},
   "outputs": [],
   "source": [
    "#递归版本\n",
    "def binary_search(alist,item):\n",
    "    '''二分查找'''\n",
    "    n=len(alist)\n",
    "    if n >0:\n",
    "        mid=n//2\n",
    "        if alist[mid]==item:\n",
    "            return True\n",
    "        elif item<alist[mid]:\n",
    "            return binary_search(alist[:mid],item)\n",
    "        else:\n",
    "            return binary_search(alist[mid+1:],item)\n",
    "    return False"
   ]
  },
  {
   "cell_type": "code",
   "execution_count": null,
   "id": "exact-defensive",
   "metadata": {},
   "outputs": [],
   "source": [
    "c=[17, 20, 26, 31, 44, 54, 55, 77, 93]\n",
    "print(binary_search(c,55))\n",
    "print(binary_search(c,100))"
   ]
  },
  {
   "cell_type": "code",
   "execution_count": null,
   "id": "desperate-ranch",
   "metadata": {},
   "outputs": [],
   "source": [
    "#非递归\n",
    "def binary_search_2(alist,item):\n",
    "    '''二分查找，非递归'''\n",
    "    n=len(alist)\n",
    "    first=0\n",
    "    last=n-1\n",
    "    while first <= last:\n",
    "        mid=(first+last)//2\n",
    "        if alist[mid]==item:\n",
    "            return True\n",
    "        elif item < alist[mid]:\n",
    "            last=mid-1\n",
    "        else:\n",
    "            first=mid+1\n",
    "    return False"
   ]
  },
  {
   "cell_type": "code",
   "execution_count": null,
   "id": "restricted-louisiana",
   "metadata": {},
   "outputs": [],
   "source": [
    "c=[17, 20, 26, 31, 44, 54, 55, 77, 93]\n",
    "print(binary_search_2(c,55))\n",
    "print(binary_search_2(c,100))"
   ]
  },
  {
   "cell_type": "raw",
   "id": "incorporated-python",
   "metadata": {},
   "source": [
    "二叉树：\n",
    "节点的度：每个节点的子节点的数目\n",
    "树的度：最大的节点的度\n",
    "叶子节点：度为0的节点\n",
    "\n",
    "常见树的应用场景：\n",
    "1.xml,html等，编写这些东西的解析器的时候，不可避免用到了树\n",
    "2.路由协议使用了树的算法\n",
    "3.mysql数据库索引\n",
    "4.文件系统的目录结构\n",
    "5.经典的AI算法，决策树等\n",
    "\n",
    "队列！的方法\n",
    "[None] 返回的是TRUE"
   ]
  },
  {
   "cell_type": "code",
   "execution_count": null,
   "id": "unsigned-bones",
   "metadata": {},
   "outputs": [],
   "source": [
    "#二叉树的实现\n",
    "class Node(object):\n",
    "    '''节点'''\n",
    "    def __init__(self,item):\n",
    "        self.elem=item\n",
    "        self.lchild=None\n",
    "        self.rchild=None\n",
    "        \n",
    "\n",
    "class Tree(object):\n",
    "    '''二叉树'''\n",
    "    def __init__(self):\n",
    "        self.root=None\n",
    "        \n",
    "    def add(self,item):\n",
    "        node=Node(item)\n",
    "        if self.root is None:\n",
    "            self.root=node\n",
    "            return\n",
    "        queue=[self.root]\n",
    "        while queue:\n",
    "            cur_node=queue.pop(0)\n",
    "            if cur_node.lchild is None:\n",
    "                cur_node.lchild=node\n",
    "                return\n",
    "            else:\n",
    "                queue.append(cur_node.lchild)\n",
    "            if cur_node.rchild is None:\n",
    "                cur_node.rchild=node\n",
    "                return \n",
    "            else:\n",
    "                queue.append(cur_node.rchild)\n",
    "            \n",
    "    def breadth_travel(self):\n",
    "        '''广度遍历'''\n",
    "        if self.root is None:\n",
    "            return \n",
    "        queue=[self.root]\n",
    "        while queue:\n",
    "            cur_node=queue.pop(0)\n",
    "            print(cur_node.elem,end=\" \")\n",
    "            if cur_node.lchild is not None:\n",
    "                queue.append(cur_node.lchild)\n",
    "            \n",
    "            if cur_node.rchild is not None:\n",
    "                queue.append(cur_node.rchild)\n",
    "                \n",
    "                \n",
    "    def preorder(self,node):\n",
    "        '''先序遍历'''\n",
    "        if node is None:\n",
    "            return \n",
    "        print(node.elem,end=\" \")\n",
    "        self.preorder(node.lchild)\n",
    "        self.preorder(node.rchild)\n",
    "      \n",
    "    def inorder(self,node):\n",
    "        '''中序遍历'''\n",
    "        if node is None:\n",
    "            return \n",
    "        self.inorder(node.lchild)\n",
    "        print(node.elem,end=\" \")\n",
    "        self.inorder(node.rchild)\n",
    "        \n",
    "    def postorder(self,node):\n",
    "        '''后序遍历'''\n",
    "        if node is None:\n",
    "            return \n",
    "        self.postorder(node.lchild)\n",
    "        self.postorder(node.rchild)\n",
    "        print(node.elem,end=\" \")\n",
    "    "
   ]
  },
  {
   "cell_type": "code",
   "execution_count": null,
   "id": "thorough-revelation",
   "metadata": {},
   "outputs": [],
   "source": [
    "tree=Tree()\n",
    "tree.add(0)\n",
    "tree.add(1)\n",
    "tree.add(2)\n",
    "tree.add(3)\n",
    "tree.add(4)\n",
    "tree.add(5)\n",
    "tree.add(6)\n",
    "tree.add(7)\n",
    "tree.add(8)\n",
    "tree.add(9)\n",
    "tree.breadth_travel()\n",
    "print(\" \")\n",
    "tree.preorder(tree.root)\n",
    "print(\" \")\n",
    "tree.inorder(tree.root)\n",
    "print(\" \")\n",
    "tree.postorder(tree.root)"
   ]
  },
  {
   "cell_type": "raw",
   "id": "applied-stadium",
   "metadata": {},
   "source": [
    "先序遍历：\n",
    "根 左 右\n",
    "\n",
    "中序遍历：\n",
    "左 根 右\n",
    "\n",
    "后序遍历\n",
    "左 右 根"
   ]
  },
  {
   "cell_type": "raw",
   "id": "weekly-samba",
   "metadata": {},
   "source": [
    "变位词：\n",
    "解法1：逐字检查\n",
    "复制到列表中的原因是，我可以将字符改成none，这样子就不会存在二次匹配的问题，导致浪费或者冗余\n",
    "复杂度为o(n^2)\n",
    "\n",
    "解法2：排序比较\n",
    "先排序，在对比\n",
    "\n",
    "解法3：暴力解法\n",
    "将一个字符串中的元素全部排列\n",
    "时间难度指数级上升\n",
    "\n",
    "解法4：计数解法\n",
    "思路：\n",
    "对比两个词中每个字母出现的次数，如果26个字母出现的次数都相同的话，这两个字符串就一定是变位词\n",
    "\n",
    "具体做法：\n",
    "为每个词设置一个26位的计数器，先检查每个词，在计数器中设定好每个字母出现的次数\n",
    "\n",
    "计数完成后，进入比较阶段，看两个字符串的计数器是否相同，如果相同则输出是变位词的结论。\n",
    "计数解法是一个性能最优的解法，空间代价"
   ]
  },
  {
   "cell_type": "code",
   "execution_count": null,
   "id": "environmental-caribbean",
   "metadata": {},
   "outputs": [],
   "source": [
    "def anagramSolution_1(s1,s2):\n",
    "    alist=list(s2) #复制s2到列表\n",
    "    pos1=0\n",
    "    stillOK=True\n",
    "    while pos1 < len(s1) and stillOK: #循环s1的每个字符\n",
    "        pos2=0\n",
    "        found=False\n",
    "        while pos2<len(alist) and not found: #在s2中进行对比\n",
    "            if s1[pos1]==alist[pos2]:\n",
    "                found=True\n",
    "            else:\n",
    "                pos2=pos2+1\n",
    "        if found:\n",
    "            alist[pos2]=None #找到打勾\n",
    "        else:\n",
    "            stillOK=False  #未找到失败\n",
    "        pos1=pos1+1\n",
    "        \n",
    "    return stillOK\n"
   ]
  },
  {
   "cell_type": "code",
   "execution_count": null,
   "id": "atlantic-license",
   "metadata": {},
   "outputs": [],
   "source": [
    "anagramSolution_1(\"abcd\",\"dcba\")"
   ]
  },
  {
   "cell_type": "code",
   "execution_count": null,
   "id": "individual-reunion",
   "metadata": {},
   "outputs": [],
   "source": [
    "anagramSolution_1(\"abcd\",\"dcea\")"
   ]
  },
  {
   "cell_type": "code",
   "execution_count": null,
   "id": "supported-warrant",
   "metadata": {},
   "outputs": [],
   "source": [
    "s1=\"abcd\"\n",
    "s1[0]"
   ]
  },
  {
   "cell_type": "code",
   "execution_count": null,
   "id": "rational-ebony",
   "metadata": {},
   "outputs": [],
   "source": [
    "list(s1)"
   ]
  },
  {
   "cell_type": "code",
   "execution_count": null,
   "id": "english-portable",
   "metadata": {},
   "outputs": [],
   "source": [
    "#排序比较\n",
    "def anagramSolution_2(s1,s2):\n",
    "    if len(s1)!=len(s2):\n",
    "        return \"格式错误，请重试\"\n",
    "    alist1=list(s1)\n",
    "    alist2=list(s2)\n",
    "    \n",
    "    alist1.sort()\n",
    "    alist2.sort()\n",
    "    pos=0\n",
    "    matches=True\n",
    "    while pos < len(s1) and matches:\n",
    "        if alist1[pos]==alist2[pos]:\n",
    "            pos+=1\n",
    "            \n",
    "        else:\n",
    "            matches=False\n",
    "    return matches"
   ]
  },
  {
   "cell_type": "code",
   "execution_count": null,
   "id": "handed-motion",
   "metadata": {},
   "outputs": [],
   "source": [
    "anagramSolution_2(\"abcd\",\"dacb\")"
   ]
  },
  {
   "cell_type": "code",
   "execution_count": null,
   "id": "sacred-contemporary",
   "metadata": {},
   "outputs": [],
   "source": [
    "anagramSolution_2(\"abcd\",\"dacef\")"
   ]
  },
  {
   "cell_type": "code",
   "execution_count": null,
   "id": "growing-expert",
   "metadata": {},
   "outputs": [],
   "source": [
    "def anagramSolution_4(s1,s2):\n",
    "    c1=[0]*26\n",
    "    c2=[0]*26\n",
    "    for i in range(len(s1)):\n",
    "        pos=ord(s1[i])-ord(\"a\") #这一步也就是将26个字母对应到索引\n",
    "        c1[pos]+=1\n",
    "    for i in range(len(s2)):\n",
    "        pos=ord(s2[i])-ord(\"a\")\n",
    "        c2[pos]+=1\n",
    "        \n",
    "    j=0\n",
    "    stillOK=True\n",
    "    while j < 26 and stillOK:\n",
    "        if c1[j]==c2[j]:\n",
    "            j+=1\n",
    "        else:\n",
    "            stillOK=False\n",
    "    \n",
    "    return stillOK"
   ]
  },
  {
   "cell_type": "code",
   "execution_count": null,
   "id": "present-satellite",
   "metadata": {},
   "outputs": [],
   "source": [
    "anagramSolution_4(\"apple\",\"pleap\")"
   ]
  },
  {
   "cell_type": "code",
   "execution_count": null,
   "id": "divided-handling",
   "metadata": {},
   "outputs": [],
   "source": [
    "anagramSolution_4(\"acple\",\"pleap\")"
   ]
  },
  {
   "cell_type": "raw",
   "id": "express-psychology",
   "metadata": {},
   "source": [
    "线性结构：每个数据项都有唯一的前驱和后继\n",
    "有两端，根据结构进行称呼\n",
    "栈,队列，双端队列，列表\n",
    "\n",
    "栈的应用：\n",
    "简单括号匹配\n"
   ]
  },
  {
   "cell_type": "code",
   "execution_count": null,
   "id": "latin-wagner",
   "metadata": {},
   "outputs": [],
   "source": [
    "#自定义栈\n",
    "'''\n",
    "需要定义的方法有：\n",
    "添加一个新元素到栈里：push()\n",
    "弹出栈顶元素：pop()\n",
    "返回栈顶元素：peak()\n",
    "计算栈的长度,栈的元素个数：size()\n",
    "判断栈是否为空： is_empty()\n",
    "\n",
    "'''\n",
    "\n",
    "class Stack(object):\n",
    "    \n",
    "    def __init__(self):\n",
    "        self.__list=[]\n",
    "        \n",
    "    def push(self,item):\n",
    "        self.__list.append(item)\n",
    "        \n",
    "        \n",
    "    def pop(self):\n",
    "        return self.__list.pop()\n",
    "        \n",
    "    def peak(self):\n",
    "        if self.__list:\n",
    "            return self.__list[-1]\n",
    "        else:\n",
    "            return None\n",
    "        \n",
    "    def is_empty(self):\n",
    "        return self.__list==[]\n",
    "    \n",
    "    def size(self):\n",
    "        return len(self.__list)"
   ]
  },
  {
   "cell_type": "code",
   "execution_count": null,
   "id": "structured-walnut",
   "metadata": {},
   "outputs": [],
   "source": [
    "#简单括号匹配,仅有一种类型()\n",
    "def parChecker(symbolString):\n",
    "    s=Stack()\n",
    "    balanced=True\n",
    "    index=0\n",
    "    while index<len(symbolString) and balanced:\n",
    "        symbol=symbolString[index]\n",
    "        if symbol==\"(\":\n",
    "            s.push(symbol)\n",
    "        else:\n",
    "            if s.is_empty():\n",
    "                balanced=False\n",
    "            else:\n",
    "                s.pop()\n",
    "        index+=1\n",
    "    \n",
    "    if balanced and s.is_empty():\n",
    "        return True\n",
    "    else:\n",
    "        return False"
   ]
  },
  {
   "cell_type": "code",
   "execution_count": null,
   "id": "regional-awareness",
   "metadata": {},
   "outputs": [],
   "source": [
    "zf=\"((()))\"\n",
    "cf=\"((())\"\n",
    "print(parChecker(zf))"
   ]
  },
  {
   "cell_type": "code",
   "execution_count": null,
   "id": "recognized-deputy",
   "metadata": {},
   "outputs": [],
   "source": [
    "print(parChecker(cf))"
   ]
  },
  {
   "cell_type": "code",
   "execution_count": null,
   "id": "surrounded-manitoba",
   "metadata": {},
   "outputs": [],
   "source": [
    "#十进制转二进制，栈的应用\n",
    "\n",
    "def divideBy2(decNumber):\n",
    "    remstack=Stack()\n",
    "    \n",
    "    while decNumber>0:\n",
    "        rem=decNumber % 2 #求余数\n",
    "        remstack.push(rem)\n",
    "        decNumber=decNumber//2 #求整除\n",
    "        \n",
    "    binString=\"\"\n",
    "    while not remstack.is_empty():\n",
    "        binString+=str(remstack.pop())\n",
    "    return binString"
   ]
  },
  {
   "cell_type": "code",
   "execution_count": null,
   "id": "brave-restoration",
   "metadata": {},
   "outputs": [],
   "source": [
    "num=8976\n",
    "divideBy2(8976)"
   ]
  },
  {
   "cell_type": "code",
   "execution_count": null,
   "id": "acceptable-boston",
   "metadata": {},
   "outputs": [],
   "source": [
    "num=345\n",
    "divideBy2(345)"
   ]
  },
  {
   "cell_type": "code",
   "execution_count": null,
   "id": "legislative-tribute",
   "metadata": {},
   "outputs": [],
   "source": [
    "#十进制转化为十六以下任意进制的代码\n",
    "def baseConverter(decNumber,base):\n",
    "    digits=\"0123456789ABCDEF\"\n",
    "    \n",
    "    remstack=Stack()\n",
    "    \n",
    "    while decNumber>0:\n",
    "        rem=decNumber % base\n",
    "        remstack.push(rem)\n",
    "        decNumber=decNumber//base\n",
    "        \n",
    "    newString=\"\"\n",
    "    while not remstack.is_empty():\n",
    "        newString+=digits[remstack.pop()]\n",
    "    \n",
    "    return newString"
   ]
  },
  {
   "cell_type": "code",
   "execution_count": null,
   "id": "proof-burst",
   "metadata": {},
   "outputs": [],
   "source": [
    "baseConverter(345,2)"
   ]
  },
  {
   "cell_type": "code",
   "execution_count": null,
   "id": "cultural-stupid",
   "metadata": {},
   "outputs": [],
   "source": [
    "baseConverter(345,16)"
   ]
  },
  {
   "cell_type": "raw",
   "id": "competitive-malta",
   "metadata": {},
   "source": [
    "表达式的转换：\n",
    "中缀\n",
    "前缀\n",
    "后缀\n",
    "A+B*C\n",
    "由于存在反装，所以是用栈进行处理\n",
    "特殊例子，带上括号的表达式，具有优先级\n",
    "\n",
    "通用的中缀转后缀算法：流程\n",
    "\n",
    "后面的算法描述中，约定中缀表达式是由空格隔开的一系列单词token构成，\n",
    "操作符单词包括*/+-()\n",
    "而操作数单词则是单字母标识符A、B、C等\n",
    "\n",
    "首先。创建空栈opstack用于暂存操作符，空表postfixlist用于保存后缀表达式\n",
    "\n",
    "将中缀表达式转换为单词token列表\n",
    "\n",
    "A+B*C=split=>[\"A\",\"+\",\"B\",\"*\",\"C\"]\n",
    "\n",
    "\n",
    "从左到右扫描中缀表达式单词列表\n",
    "\n",
    "如果单词是操作数，则直接添加到后缀表达式列表的末尾\n",
    "如果单词是左括号\"(\",则push到opstack中\n",
    "如果单词是右括号\")\",则pop出opstack操作符，加入到输出列表末尾，直到碰到左括号\n",
    "如果单词是操作符\"*/+-\",则push到opstack中\n",
    "但是在压入之前，要比较其与栈顶操作符的优先级\n",
    "如果栈顶的高于或等于它，就要反复弹出栈顶操作符，加入到输出列表末尾\n",
    "直到栈顶的操作符优先级定低于它\n",
    "\n",
    "中缀表达式单词列表扫描完后，把opstack栈中的所有剩余操作符依次弹出，添加到输出列表末尾\n",
    "\n",
    "把输出列表再用join方法合并成后缀表达式字符串，算法结束。"
   ]
  },
  {
   "cell_type": "code",
   "execution_count": null,
   "id": "eight-sensitivity",
   "metadata": {},
   "outputs": [],
   "source": [
    "#实现中缀转换为后缀\n",
    "def infixToPostfix(infixexpr):\n",
    "    prec={}\n",
    "    prec[\"*\"]=3\n",
    "    prec[\"/\"]=3\n",
    "    prec[\"+\"]=2\n",
    "    prec[\"-\"]=2\n",
    "    prec[\"(\"]=1\n",
    "    #以上是以字典的形式记录操作符的优先级，便于下文比较\n",
    "    opStack=Stack()\n",
    "    postfixList=[]\n",
    "    tokenList=infixexpr.split() #解析表达式到单词列表\n",
    "    \n",
    "    for token in tokenList:\n",
    "        if token in \"ABCDEFGHIJKLMNOPQRSTUVWXYZ\" or token in \"0123456789\":\n",
    "            postfixList.append(token)\n",
    "            \n",
    "        elif token ==\"(\":\n",
    "            opStack.push(token)\n",
    "        elif token==\")\":\n",
    "            topToken=opStack.pop()\n",
    "            while topToken !=\"(\":\n",
    "                postfixList.append(topToken)\n",
    "                topToken=opStack.pop()\n",
    "                \n",
    "        else:\n",
    "            \n",
    "            while (not opStack.is_empty()) and (prec[opStack.peak()]>=prec[token]):\n",
    "                postfixList.append(opStack.pop())\n",
    "                \n",
    "            opStack.push(token)\n",
    "            \n",
    "    \n",
    "    while not opStack.is_empty():\n",
    "        postfixList.append(opStack.pop())\n",
    "        \n",
    "    return \"\".join(postfixList)\n",
    "    \n",
    "    "
   ]
  },
  {
   "cell_type": "code",
   "execution_count": null,
   "id": "protective-marijuana",
   "metadata": {},
   "outputs": [],
   "source": [
    "prec={}\n",
    "prec[\"*\"]=3\n",
    "prec[\"/\"]=3\n",
    "prec[\"+\"]=2\n",
    "prec[\"-\"]=2\n",
    "prec[\"(\"]=1"
   ]
  },
  {
   "cell_type": "code",
   "execution_count": null,
   "id": "neutral-general",
   "metadata": {},
   "outputs": [],
   "source": [
    "prec"
   ]
  },
  {
   "cell_type": "code",
   "execution_count": null,
   "id": "overall-identification",
   "metadata": {},
   "outputs": [],
   "source": [
    "a=\"A * B + C * D\"\n",
    "infixToPostfix(a)"
   ]
  },
  {
   "cell_type": "code",
   "execution_count": null,
   "id": "changed-james",
   "metadata": {},
   "outputs": [],
   "source": [
    "b=\"9 / 2 + 8 * ( 2 - 9 )\"\n",
    "infixToPostfix(b)"
   ]
  },
  {
   "cell_type": "raw",
   "id": "outdoor-yesterday",
   "metadata": {},
   "source": [
    "后缀表达式求值：流程\n",
    "\n",
    "创建空栈 operandStack 用于暂存操作数\n",
    "\n",
    "将后缀表达式用split方法解析为单词的列表\n",
    "从左到右扫描单词列表\n",
    "\n",
    "如果单词是一个操作数，将单词转换为整数int,压入operandStack栈顶\n",
    "\n",
    "如果单词是一个操作符(*/+-),就开始求值，从栈顶弹出两个操作数，先弹出的是右操作数，后弹出的是左操作数，计算后将\n",
    "值重新压入栈顶\n",
    "\n",
    "单词列表扫描结束后，表达式的值就是在栈顶\n",
    "弹出栈顶的值，返回"
   ]
  },
  {
   "cell_type": "code",
   "execution_count": null,
   "id": "talented-princess",
   "metadata": {},
   "outputs": [],
   "source": [
    "list(\"123*+-\")"
   ]
  },
  {
   "cell_type": "code",
   "execution_count": null,
   "id": "curious-worthy",
   "metadata": {},
   "outputs": [],
   "source": [
    "def postfixEval(postfixExpr):\n",
    "    operandStack=Stack()\n",
    "    tokenList=list(postfixExpr)\n",
    "    \n",
    "    for token in tokenList:\n",
    "        if token in \"01123456789\":\n",
    "            operandStack.push(int(token))\n",
    "        \n",
    "        else:\n",
    "            operand2=operandStack.pop()\n",
    "            operand1=operandStack.pop()\n",
    "            result=doMath(token, operand1,operand2)\n",
    "            operandStack.push(result)\n",
    "    \n",
    "    return operandStack.pop()\n",
    "\n",
    "\n",
    "def doMath(op,op1,op2):\n",
    "    if op==\"*\":\n",
    "        return op1*op2\n",
    "    elif op==\"/\":\n",
    "        return op1/op2\n",
    "    elif op==\"+\":\n",
    "        return op1+op2\n",
    "    elif op==\"-\":\n",
    "        return op1-op2"
   ]
  },
  {
   "cell_type": "code",
   "execution_count": null,
   "id": "loving-patch",
   "metadata": {},
   "outputs": [],
   "source": [
    "strs=\"98+675*-\"\n",
    "postfixEval(strs)"
   ]
  },
  {
   "cell_type": "code",
   "execution_count": null,
   "id": "velvet-brazilian",
   "metadata": {},
   "outputs": [],
   "source": [
    "#有效括号的匹配\n",
    "def validstr(inp):\n",
    "    st=Stack()\n",
    "    d={\"(\":\")\",\"[\":\"]\",\"{\":\"}\"}\n",
    "    for a in inp:\n",
    "        if a in \"([{\":\n",
    "            st.push(a)\n",
    "        elif st.is_empty() or not a==d[st.pop()]: #右括号多出来或者不匹配\n",
    "            print(\"False\")\n",
    "            break\n",
    "    else:\n",
    "        if st.is_empty():\n",
    "            print(\"True\")  #恰好匹配\n",
    "        else:\n",
    "            print(\"False\") #左括号多出来            "
   ]
  },
  {
   "cell_type": "code",
   "execution_count": null,
   "id": "multiple-nutrition",
   "metadata": {},
   "outputs": [],
   "source": [
    "a=\"({[{]})\"\n",
    "validstr(a)"
   ]
  },
  {
   "cell_type": "code",
   "execution_count": null,
   "id": "supreme-underground",
   "metadata": {},
   "outputs": [],
   "source": [
    "a=\"{[([()])]}\"\n",
    "validstr(a)"
   ]
  },
  {
   "cell_type": "code",
   "execution_count": null,
   "id": "convinced-nursing",
   "metadata": {},
   "outputs": [],
   "source": [
    "#一维消消乐\n",
    "def balanced(inp):\n",
    "    st=Stack()\n",
    "    s=inp\n",
    "    for a in s:\n",
    "        if not st.is_empty() and a==st.peak():\n",
    "            st.pop()\n",
    "        else:\n",
    "            st.push(a)\n",
    "    if st.is_empty():\n",
    "        print(\"suceessful\")\n",
    "    else:\n",
    "        print(st.size())"
   ]
  },
  {
   "cell_type": "code",
   "execution_count": null,
   "id": "collaborative-drill",
   "metadata": {},
   "outputs": [],
   "source": [
    "inp=\"adda\"\n",
    "balanced(inp)"
   ]
  },
  {
   "cell_type": "raw",
   "id": "acquired-payday",
   "metadata": {},
   "source": [
    "洗碗工小明碰上了一位强迫症老板老王，餐厅一共就10只盘子，老板给仔细编上了0～9等10个号码，并要求小明按照从0到9的编号来洗盘子，当然，每洗好一只盘子，就必须得整齐叠放起来。\n",
    "\n",
    "小明洗盘子期间，经常就有顾客来取盘子，当然每位顾客只能从盘子堆最上面取1只盘子离开。\n",
    "\n",
    "老王在收银台仔细地记录了顾客依次取到盘子的编号，比如“1043257689”，这样他就能判断小明是不是遵照命令按照0123456789的次序来洗盘子了。\n",
    "\n",
    "你也能像老王一样作出准确的判断吗？"
   ]
  },
  {
   "cell_type": "code",
   "execution_count": null,
   "id": "atlantic-sarah",
   "metadata": {},
   "outputs": [],
   "source": [
    "#洗碗工\n",
    "def washing(inp):\n",
    "    st=Stack()\n",
    "    s=inp\n",
    "    n=0 #正在洗的盘子的编号\n",
    "    i=0 #取盘子的次序，s[i]是取得盘子的编号\n",
    "    while i<10 and n<10:\n",
    "        k=int(s[i])\n",
    "        #洗盘子\n",
    "        #如果顾客取到了编号k的盘子，那么正在洗的盘子到k之间的所有盘子都洗好叠放\n",
    "        if n <=k:\n",
    "            for m in range(n,k+1):\n",
    "                st.push(m)\n",
    "            n=k+1 #正在洗下一个盘子\n",
    "        #取盘子\n",
    "        #逐个从顶上取盘子，从k开始取，一直取到对不上号，说明要去取的还没洗\n",
    "        while not st.is_empty() and st.peak()==int(s[i]):\n",
    "            m=st.pop()\n",
    "            i+=1\n",
    "        \n",
    "    #能取完的都取完了，如果盘子堆里还有盘子，说明取的序列不对\n",
    "    if st.is_empty():\n",
    "        return \"Yes\"\n",
    "    else:\n",
    "        return \"NO\""
   ]
  },
  {
   "cell_type": "raw",
   "id": "dynamic-bread",
   "metadata": {},
   "source": [
    "操作系统核心采用多个队列来对系统中同时运行的进程进行调度\n",
    "进程数远多于CPU核心数\n",
    "有些进程还要等待不同类型I/O事件\n",
    "调度原则综合了\"先到先服务\"及\"资源充分利用\"两个出发点\n"
   ]
  },
  {
   "cell_type": "code",
   "execution_count": null,
   "id": "systematic-thriller",
   "metadata": {},
   "outputs": [],
   "source": [
    "#封装队列queue\n",
    "class Queue(object):\n",
    "    def __init__(self):\n",
    "        self.__list=[]\n",
    "    \n",
    "    def enqueue(self,item):\n",
    "        self.__list.insert(0,item)\n",
    "    \n",
    "    def dequeue(self):\n",
    "        return self.__list.pop()\n",
    "    \n",
    "    def is_empty(self):\n",
    "        return self.__list==[]\n",
    "    \n",
    "    def size(self):\n",
    "        return len(self.__list)\n",
    "    \n",
    "    def travel(self):\n",
    "        print(self.__list)"
   ]
  },
  {
   "cell_type": "code",
   "execution_count": null,
   "id": "annual-timothy",
   "metadata": {},
   "outputs": [],
   "source": [
    "q=Queue()\n",
    "q.enqueue(1)\n",
    "q.enqueue(2)\n",
    "q.enqueue(3)\n",
    "q.enqueue(4)\n",
    "q.enqueue(5)\n",
    "q.travel()\n",
    "q.dequeue()\n",
    "q.dequeue()\n",
    "q.dequeue()\n",
    "q.travel()\n",
    "q.size()"
   ]
  },
  {
   "cell_type": "raw",
   "id": "medical-agent",
   "metadata": {},
   "source": [
    "用队列来实现热土豆问题的算法，\n",
    "模拟程序采用队列来存放所有参加游戏的人名，按照传递土豆方向从队首排到队尾\n",
    "游戏时，队首始终是持有土豆的人\n",
    "模拟游戏开始，只需要将队首的人出队，随即再到队尾入队，算是土豆的一次传递\n",
    "传递num次后，将队首的人移除，不再入队，如此反复，直到队列中剩余1人"
   ]
  },
  {
   "cell_type": "code",
   "execution_count": null,
   "id": "electric-break",
   "metadata": {},
   "outputs": [],
   "source": [
    "def hotPotato(namelist,num):\n",
    "    simqueue=Queue()\n",
    "    for name in namelist:\n",
    "        simqueue.enqueue(name)\n",
    "    \n",
    "    while simqueue.size()>1:\n",
    "        for i in range(num):\n",
    "            simqueue.enqueue(simqueue.dequeue()) #一次传递\n",
    "            \n",
    "        simqueue.dequeue()\n",
    "    return simqueue.dequeue()\n",
    "            "
   ]
  },
  {
   "cell_type": "code",
   "execution_count": null,
   "id": "valid-analysis",
   "metadata": {},
   "outputs": [],
   "source": [
    "namelist=[\"Bill\",\"David\",\"Bob\",\"Susan\",\"Jane\",\"Kent\",\"Brad\",\"John\"]\n",
    "num=7\n",
    "print(hotPotato(namelist,num))"
   ]
  },
  {
   "cell_type": "raw",
   "id": "suspected-packing",
   "metadata": {},
   "source": [
    "打印任务模拟：\n",
    "如何对问题建模\n",
    "对象：\n",
    "打印任务，打印队列，打印机\n",
    "打印任务的属性：\n",
    "提交时间，打印页数\n",
    "\n",
    "打印队列的属性：\n",
    "具有前进前出性质的打印任务队列\n",
    "打印机的属性：\n",
    "打印速度，是否在忙\n",
    "\n",
    "过程：生成和提交打印任务\n",
    "\n",
    "确定生成概率：实例为每小时会有10个学生提交20个作业，这样概率为每秒有1/180份作业\n",
    "确定打印页数：实例是1-20页，那么就是1-20页之间概率相同\n",
    "\n",
    "过程：实施打印\n",
    "当前的打印作业：正在打印的作业\n",
    "\n",
    "打印结束倒计时：新作业开始打印时开始倒计时，回0表示打印完毕，可以处理下一个作业\n",
    "\n",
    "模拟时间：\n",
    "统一的时间框架：以最小单位秒均匀流逝的时间，设定结束时间\n",
    "同步所有过程：在一个时间单位内，对生成打印任务和实施打印两个过程各处理一次\n",
    "\n",
    "\n",
    "打印任务问题：模拟流程\n",
    "创建打印队列对象\n",
    "时间按照秒的单位流逝\n",
    "按照概率生成打印作业，加入打印队列\n",
    "如果打印机空闲，且队列不空，则取出队首作业打印，记录此作业等待时间\n",
    "如果打印机忙，则按照打印速度进行1秒打印\n",
    "如果当前作业打印完成，则打印机进入空闲\n",
    "\n",
    "时间用尽，开始统计平均等待时间\n",
    "\n",
    "作业等待时间\n",
    "生成作业时，记录生成的时间戳\n",
    "开始打印时，当前时间减去生成时间即可\n",
    "\n",
    "作业的打印时间\n",
    "\n",
    "生成作业时，记录作业的页数\n",
    "开始打印时，页数除以打印速度即可"
   ]
  },
  {
   "cell_type": "code",
   "execution_count": null,
   "id": "desperate-legislature",
   "metadata": {},
   "outputs": [],
   "source": [
    "import random\n",
    "\n",
    "class Printer(object):\n",
    "    def __init__(self,ppm):\n",
    "        self.pagerate=ppm #打印速度\n",
    "        self.currentTask=None #当前打印任务\n",
    "        self.timeRemaining=0  #任务倒计时\n",
    "        \n",
    "    def tick(self):\n",
    "        '''打印一秒'''\n",
    "        if self.currentTask != None:\n",
    "            self.timeRemaining-=1\n",
    "            if self.timeRemaining <=0:\n",
    "                self.currentTask=None\n",
    "                \n",
    "    def busy(self):\n",
    "        '''判断打印机是否忙'''\n",
    "        if self.currentTask != None:\n",
    "            return True\n",
    "        else:\n",
    "            return False\n",
    "        \n",
    "        \n",
    "    def startNext(self,newtask):\n",
    "        '''打印新作业'''\n",
    "        self.currentTask=newtask\n",
    "        self.timeRemaining=newtask.getPages()*60/self.pagerate\n",
    "        \n",
    "        \n",
    "class Task(object):\n",
    "    def __init__(self,time):\n",
    "        self.timestamp=time  #生成时间戳\n",
    "        self.pages=random.randrange(1,21) #生成打印页数\n",
    "        \n",
    "    def getStamp(self):\n",
    "        return self.timestamp\n",
    "    \n",
    "    def getPages(self):\n",
    "        return self.pages\n",
    "    \n",
    "    def waitTime(self,currenttime):\n",
    "        '''等待时间'''\n",
    "        return currenttime - self.timestamp\n",
    "    \n",
    "\n",
    "def newPrintTask():\n",
    "    num=random.randrange(1,181)\n",
    "    if num == 180:\n",
    "        return True\n",
    "    \n",
    "    else:\n",
    "        False\n",
    "        \n",
    "\n",
    "def simulation(numSeconds,pagesPerMinute):\n",
    "    \n",
    "    labprinter=Printer(pagesPerMinute)\n",
    "    printQueue=Queue()\n",
    "    waitingtimes=[]\n",
    "    \n",
    "    for currentSecond in range(numSeconds):\n",
    "\n",
    "        if newPrintTask():\n",
    "            task=Task(currentSecond)\n",
    "            printQueue.enqueue(task)\n",
    "\n",
    "        if (not labprinter.busy()) and (not printQueue.is_empty()):\n",
    "            nexttask=printQueue.dequeue()\n",
    "\n",
    "            waitingtimes.append(nexttask.waitTime(currentSecond))\n",
    "            labprinter.startNext(nexttask)\n",
    "\n",
    "\n",
    "        labprinter.tick()\n",
    "\n",
    "\n",
    "    averageWait=sum(waitingtimes)/len(waitingtimes)\n",
    "\n",
    "    print(\"Average Wait %6.2f secs %3d tasks remaining.\" %(averageWait,printQueue.size()))\n",
    "        "
   ]
  },
  {
   "cell_type": "code",
   "execution_count": null,
   "id": "rational-grenada",
   "metadata": {},
   "outputs": [],
   "source": [
    "for i in range(10):\n",
    "    simulation(3600,10)"
   ]
  },
  {
   "cell_type": "raw",
   "id": "golden-seating",
   "metadata": {},
   "source": [
    "打印任务问题讨论：\n",
    "为了对打印模拟设置进行决策，我们用模拟程序来评估任务等待时间\n",
    "通过两种情况模拟仿真结果的分析，我们认识到如果有那么多学生要拿着打印好的程序源代码赶去上课的话，那么，必须得牺牲打印质量，\n",
    "提高打印速度。\n",
    "\n",
    "模拟系统对现实的仿真\n",
    "在不耗费现实资源的情况下，有时候真实的实验是无法进行的，可以以不同的设定，反复多次模拟来帮助我们进行决策。\n",
    "\n",
    "打印模拟还可以加入不同的设定，来进行更丰富的模拟\n",
    "\n",
    "\n",
    "\n",
    "双端队列，本质就是两个栈同底"
   ]
  },
  {
   "cell_type": "code",
   "execution_count": null,
   "id": "reserved-energy",
   "metadata": {},
   "outputs": [],
   "source": [
    "#实现双端队列的封装\n",
    "class  Deque(object):\n",
    "    def __init__(self):\n",
    "        self.__list=[]\n",
    "        \n",
    "    def addFront(self,item):\n",
    "        self.__list.append(item)\n",
    "        \n",
    "    def addRear(self,item):\n",
    "        self.__list.insert(0,item)\n",
    "        \n",
    "    def removeFront(self):\n",
    "        return self.__list.pop()\n",
    "    \n",
    "    def removeRear(self):\n",
    "        return self.__list.pop(0)\n",
    "    \n",
    "    def is_empty(self):\n",
    "        return self.__list==[]\n",
    "    \n",
    "    def travel(self):\n",
    "        print(self.__list)\n",
    "        \n",
    "    def size(self):\n",
    "        return len(self.__list)\n",
    "        "
   ]
  },
  {
   "cell_type": "raw",
   "id": "comparable-nigeria",
   "metadata": {},
   "source": [
    "回文词判定：\n",
    "指正读和反读都一样的词\n",
    "\n",
    "如radar madam toot\n",
    "中文 上海自来水来自海上\n",
    "山东落花生花落东山\n",
    "\n",
    "用双端队列很容易解决“回文词”问题\n",
    "先将需要判定的词从队尾加入Deque\n",
    "再从两端同时移除字符判定是否相同，直到deque中剩下0或者1个字符"
   ]
  },
  {
   "cell_type": "code",
   "execution_count": null,
   "id": "liked-standard",
   "metadata": {},
   "outputs": [],
   "source": [
    "def palchecker(aString):\n",
    "    '''回文词判定'''\n",
    "    chardeque=Deque()\n",
    "    \n",
    "    for ch in aString:\n",
    "        chardeque.addFront(ch)\n",
    "        \n",
    "    stillEqual=True\n",
    "    \n",
    "    while chardeque.size()>1 and stillEqual:\n",
    "        first=chardeque.removeFront()\n",
    "        last=chardeque.removeRear()\n",
    "        if first != last:\n",
    "            stillEqual=False\n",
    "            \n",
    "    return stillEqual"
   ]
  },
  {
   "cell_type": "code",
   "execution_count": null,
   "id": "trained-standard",
   "metadata": {},
   "outputs": [],
   "source": [
    "aString=\"radar\"\n",
    "palchecker(aString)"
   ]
  },
  {
   "cell_type": "code",
   "execution_count": null,
   "id": "vietnamese-photograph",
   "metadata": {},
   "outputs": [],
   "source": [
    "aString=\"toot\"\n",
    "palchecker(aString)"
   ]
  },
  {
   "cell_type": "code",
   "execution_count": null,
   "id": "modified-potato",
   "metadata": {},
   "outputs": [],
   "source": [
    "aString=\"toota\"\n",
    "palchecker(aString)"
   ]
  },
  {
   "cell_type": "code",
   "execution_count": null,
   "id": "naked-google",
   "metadata": {},
   "outputs": [],
   "source": [
    "#基本节点实现\n",
    "class Node(object):\n",
    "    def __init__(self,item):\n",
    "        self.elem=item\n",
    "        self.next=None\n",
    "        \n",
    "    def get_data(self):\n",
    "        return self.elem\n",
    "    \n",
    "    def get_next(self):\n",
    "        return self.next\n",
    "    \n",
    "    \n",
    "    def set_data(self,newitem):\n",
    "        self.elem=newitem \n",
    "        \n",
    "    def set_next(self,newnext):\n",
    "        self.next=newnext\n",
    "        \n"
   ]
  },
  {
   "cell_type": "code",
   "execution_count": null,
   "id": "bronze-bulgaria",
   "metadata": {},
   "outputs": [],
   "source": [
    "node=Node(100)\n",
    "node.get_data()\n"
   ]
  },
  {
   "cell_type": "code",
   "execution_count": null,
   "id": "rental-basics",
   "metadata": {},
   "outputs": [],
   "source": [
    "node.get_next()"
   ]
  },
  {
   "cell_type": "code",
   "execution_count": null,
   "id": "three-giant",
   "metadata": {},
   "outputs": [],
   "source": [
    "node.set_data(200)"
   ]
  },
  {
   "cell_type": "code",
   "execution_count": null,
   "id": "existing-billion",
   "metadata": {},
   "outputs": [],
   "source": [
    "node.get_data()"
   ]
  },
  {
   "cell_type": "raw",
   "id": "buried-purchase",
   "metadata": {},
   "source": [
    "链表实现：无序表UnorderedList\n",
    "可以采用链接节点的方式构建数据集来实现无序表\n",
    "链表的第一个和最后一个节点最重要\n",
    "如果想访问到链表中的所有节点，就必须从第一个节点开始沿着链接遍历下去\n",
    "所以无序表必须要有对第一个节点的引用空表的head为None\n",
    "设立一个属性head,保存对第一个节点的引用空表的head为None\n",
    "\n",
    "随着数据项的加入，无序表的head始终指向链条中的第一个节点\n",
    "注意，无序表myList对象本身并不包含数据项(数据项在节点中)\n",
    "其实这里存储的是一个地址，所以我们在python中的底层存储是需要了解的\n",
    "\n",
    "其中包含的head只是对首个节点Node的引用\n",
    "判断空表的is_empty()很容易实现\n",
    "\n",
    "接下来，考虑如何实现向无序表中添加数据项，实现add方法\n",
    "由于无序表并没有什么限定数据项之间的顺序\n",
    "新数据项可以加入到原表的任何位置\n",
    "按照实现的性能考虑，应添加到最容易加入位置上\n",
    "\n",
    "\n",
    "由链表的结构我们知道要访问到整条链表上的所有数据都必须从表头head开始沿着next链接逐渐向后查找，也就是全部遍历\n",
    "所以添加新数据项最快捷的位置是表头，整个链表的首位"
   ]
  },
  {
   "cell_type": "code",
   "execution_count": null,
   "id": "round-approval",
   "metadata": {},
   "outputs": [],
   "source": [
    "class UnorderList(object):\n",
    "    def __init__(self):\n",
    "        '''创建一个表头'''\n",
    "        self.head=None\n",
    "        \n",
    "    def is_empty(self):\n",
    "        '''判断链表是否为空'''\n",
    "        return self.head==None\n",
    "    \n",
    "    def travel(self):\n",
    "        '''遍历所有节点，并打印元素'''\n",
    "        cur=self.head\n",
    "        while cur !=None:\n",
    "            print(cur.elem,end=\" \")\n",
    "            cur=cur.next\n",
    "            \n",
    "    def length(self):\n",
    "        '''链表长度'''\n",
    "        count=0\n",
    "        cur=self.head\n",
    "        while cur != None:\n",
    "            count+=1\n",
    "            cur=cur.next\n",
    "        \n",
    "        return count\n",
    "           \n",
    "        \n",
    "    def add(self,item):\n",
    "        '''在表头添加Node'''\n",
    "        \n",
    "        node=Node(item)\n",
    "        node.set_next(self.head)\n",
    "        self.head=node\n",
    "        \n",
    "    def append(self,item):\n",
    "        '''在尾部添加node'''\n",
    "        node=Node(item)\n",
    "        if self.is_empty():\n",
    "            self.head=node\n",
    "            \n",
    "        else:\n",
    "            cur=self.head\n",
    "            while cur.next !=None:\n",
    "                cur=cur.next\n",
    "            cur.next=node\n",
    "            \n",
    "            \n",
    "    def insert(self,pos,item):\n",
    "        '''在链表任意位置插入'''\n",
    "        \n",
    "        if pos<=0:\n",
    "            self.add(item)\n",
    "            \n",
    "        elif pos>= self.length()-1:\n",
    "            self.append(item)\n",
    "            \n",
    "        else:\n",
    "            node=Node(item)\n",
    "            cur=self.head\n",
    "            for i in range(pos-1):\n",
    "                cur=cur.next\n",
    "            node.next=cur.next\n",
    "            cur.next=node\n",
    "            \n",
    "    \n",
    "    def remove(self,item):\n",
    "        '''删除指定元素的node'''\n",
    "        \n",
    "        cur=self.head\n",
    "        pre=None\n",
    "        while cur !=None:\n",
    "            if cur.elem==item:\n",
    "                #先判断是否为头节点\n",
    "                if cur==self.head:\n",
    "                    self.head=cur.next\n",
    "                else:\n",
    "                    pre.next=cur.next\n",
    "                break\n",
    "            else:\n",
    "                pre=cur\n",
    "                cur=cur.next\n",
    "                \n",
    "                \n",
    "    def search(self,item):\n",
    "        '''查找该元素是否存在'''\n",
    "        \n",
    "        cur=self.head\n",
    "        while cur !=None:\n",
    "            if cur.elem==item:\n",
    "                return True\n",
    "            else:\n",
    "                cur=cur.next\n",
    "        return False\n",
    "            \n",
    "             "
   ]
  },
  {
   "cell_type": "code",
   "execution_count": null,
   "id": "fiscal-dictionary",
   "metadata": {},
   "outputs": [],
   "source": [
    "un=UnorderList()\n",
    "un.append(1)\n",
    "un.append(2)\n",
    "un.append(3)\n",
    "un.add(9)\n",
    "un.travel()"
   ]
  },
  {
   "cell_type": "code",
   "execution_count": null,
   "id": "criminal-insurance",
   "metadata": {},
   "outputs": [],
   "source": [
    "un.insert(2,8)\n",
    "un.travel()"
   ]
  },
  {
   "cell_type": "code",
   "execution_count": null,
   "id": "union-labor",
   "metadata": {},
   "outputs": [],
   "source": [
    "un.remove(1)"
   ]
  },
  {
   "cell_type": "code",
   "execution_count": null,
   "id": "announced-lobby",
   "metadata": {},
   "outputs": [],
   "source": [
    "un.travel()"
   ]
  },
  {
   "cell_type": "code",
   "execution_count": null,
   "id": "labeled-dream",
   "metadata": {},
   "outputs": [],
   "source": [
    "un.insert(-1,10)"
   ]
  },
  {
   "cell_type": "code",
   "execution_count": null,
   "id": "figured-papua",
   "metadata": {},
   "outputs": [],
   "source": [
    "un.insert(10,200)\n",
    "un.travel()"
   ]
  },
  {
   "cell_type": "code",
   "execution_count": null,
   "id": "indie-single",
   "metadata": {},
   "outputs": [],
   "source": [
    "un.search(200)"
   ]
  },
  {
   "cell_type": "code",
   "execution_count": null,
   "id": "rental-lambda",
   "metadata": {},
   "outputs": [],
   "source": [
    "un.search(11)"
   ]
  },
  {
   "cell_type": "code",
   "execution_count": null,
   "id": "through-literature",
   "metadata": {},
   "outputs": [],
   "source": [
    "un.is_empty()"
   ]
  },
  {
   "cell_type": "code",
   "execution_count": null,
   "id": "protected-beaver",
   "metadata": {},
   "outputs": [],
   "source": [
    "un.length()"
   ]
  },
  {
   "cell_type": "raw",
   "id": "former-saudi",
   "metadata": {},
   "source": [
    "有序表orderedList\n",
    "有序表是一种数据项依照其某可比性质(如整数大小，字母表先后)来决定在列表中的位置\n",
    "越“小”的数据项越靠近列表的前头，越靠前\n",
    "\n",
    "OrderedList()创建一个空的有序表\n",
    "add(item):在表中添加一个数据项，并保持整体顺序，此项原不存在\n",
    "remove(item):从有序表中移除一个数据项，此项应存在，有序表被修改\n",
    "search(item):在有序表中查找数据项，返回是否存在\n",
    "is_empty():是否是空表\n",
    "size():返回表中数据项的个数\n",
    "index(item): 返回数据项在表中的位置，此项应存在\n",
    "pop():移除并返回有序表中最后一项，表中应至少存在一项\n",
    "pop(pos):移除并返回有序表中指定位置的数据项，此位置应该存在\n",
    "\n",
    "\n",
    "在实现有序表的时候，需要记住的是，数据项的相对位置，取决于它们之间的\"大小\"比较\n",
    "由于python的扩展性，下面对数据项的讨论并不仅适用于整数，可适用于所有定义了__gt__方法的数据类型\n",
    "\n",
    "同样采用链表方法实现\n",
    "Node定义相同\n",
    "orderedList也设置一个head来保存链表表头的引用\n",
    "\n",
    "对于is_empty/length/remove 这些方法，与节点的次数无关，所以实现跟无序表一样\n",
    "\n",
    "对于查找以及添加元素的方法则需要有修改\n",
    "\n",
    "\n",
    "\n",
    "对于有序表来说，可以利用表的有序性，来为search节省不存在数据项的查找时间\n",
    "一旦当前节点的数据项大于所要查找的数据项，则说明链表后面已经不可能再有要查找的数据项，可以直接返回false\n",
    "\n",
    "\n"
   ]
  },
  {
   "cell_type": "raw",
   "id": "blank-diagram",
   "metadata": {},
   "source": [
    "def search(self,item):\n",
    "    cur=self.head\n",
    "    found=False\n",
    "    stop=False\n",
    "    while cur !=None and not found and not stop:\n",
    "        if cur.elem==item:\n",
    "            found=True\n",
    "        else:\n",
    "            if cur.elem>item:\n",
    "                stop=True\n",
    "            else:\n",
    "                cur=cur.next\n",
    "    return found\n",
    "\n",
    "\n",
    "\n",
    "#更改上面的写法\n",
    "\n",
    "def search(self,item):\n",
    "    cur=self.head\n",
    "    while cur !=None:\n",
    "        if cur.elem==item:\n",
    "            return True\n",
    "        else:\n",
    "            if cur.elem > item:\n",
    "                return False\n",
    "            else:\n",
    "                cur=cur.next\n",
    "    return False\n",
    "    \n",
    "    \n",
    "    \n",
    "    \n",
    "相比于无序表，改变最大的方法就是add,因为add方法必须保证加入的数据项添加在合适的位置，以维护整个链表的有序性\n",
    "由于涉及到的插入位置是当前节点之前，而链表无法得到\"前驱\"节点的引用\n",
    "所以要跟remove方法类似，引入一个previous的引用，跟随当前节点current"
   ]
  },
  {
   "cell_type": "raw",
   "id": "accomplished-suspect",
   "metadata": {},
   "source": [
    "def add(self,item):\n",
    "    cur=self.head\n",
    "    pre=None\n",
    "    stop=False\n",
    "    while cur != None and not stop:\n",
    "        if cur.elem > item:\n",
    "            stop=True\n",
    "        else:\n",
    "            pre=cur\n",
    "            cur=cur.next\n",
    "    node=Node(item)\n",
    "    if pre==None:\n",
    "        node.next=self.head\n",
    "        self.head=node\n",
    "    \n",
    "    else:\n",
    "        node.next=cur\n",
    "        pre.next=node\n",
    "        \n",
    "        \n",
    "        \n",
    "    "
   ]
  },
  {
   "cell_type": "raw",
   "id": "dutch-dating",
   "metadata": {},
   "source": [
    "递归：recursion\n",
    "\n",
    "递归是一种解决问题的方法，其精髓在于将问题分解为规模更小的相同问题，持续分解，直到问题规模小到可以用非常简单\n",
    "的方式来解决。\n",
    "递归的问题分解方式非常独特，其算法方面的明显特征就是：在算法流程上调用自身\n",
    "\n",
    "\n",
    "递归为我们提供了一种对复杂问题的优雅解决方案，精妙的递归算法会出奇简单，令人赞叹。\n",
    "\n",
    "\n",
    "最简单的求和开始：\n",
    "\n",
    "\n",
    "递归的要点是：\n",
    "1.问题分解为更小规模的相同问题，并表现为“调用自身”\n",
    "2.对最小规模问题的解决：简单直接\n",
    "\n",
    "\n",
    "递归三定律：\n",
    "1.递归算法必须有一个基本结束条件(最小规模问题的直接解决)\n",
    "2.递归算法必须能改变状态向基本结束条件演进(减小问题规模)\n",
    "3.递归算法必须调用自身(解决减小了规模的相同问题)\n",
    "\n",
    "\n",
    "递归的应用：\n",
    "\n",
    "任意进制转换\n",
    "\n",
    "递归和栈之间存在一定的关联\n",
    "\n",
    "解决的问题是从二进制到16进制的任意进制转换\n",
    "\n",
    "整数转换为任意进制\n",
    "\n",
    "首先用十进制分析问题\n",
    "十进制有十个不同符号：convString=\"0123456789\"\n",
    "比十小的整数，转换成十进制，直接查表就可以了：convString[i]\n",
    "\n",
    "想办法把比十大的整数，折成一系列比十小的整数，逐个查表；也就是什么整数就除几取余即可\n",
    "\n",
    "\n",
    "所以在，递归三定律中我们找到了基本结束条件，就是小于10的整数\n",
    "    拆解整数的过程就是向基本结束条件演进的过程\n",
    "\n",
    "我们用整数除，和求余数两个计算来将整数一步步拆开\n",
    "//取整 通过递归调用自身解决\n",
    "%取余用于基本结束条件\n",
    "\n"
   ]
  },
  {
   "cell_type": "code",
   "execution_count": null,
   "id": "historic-tobacco",
   "metadata": {},
   "outputs": [],
   "source": [
    "#数列求和用递归法实现\n",
    "def ListSum(numList):\n",
    "    if len(numList)==1:\n",
    "        return numList[0]\n",
    "    else:\n",
    "        return numList[0]+ListSum(numList[1:])\n",
    "    "
   ]
  },
  {
   "cell_type": "code",
   "execution_count": null,
   "id": "emerging-mileage",
   "metadata": {},
   "outputs": [],
   "source": [
    "numList=[11,2,3,45,6,7,8,9,0,22,3,3,4,45,56,99]\n",
    "ListSum(numList)"
   ]
  },
  {
   "cell_type": "code",
   "execution_count": 12,
   "id": "level-gilbert",
   "metadata": {},
   "outputs": [],
   "source": [
    "#递归实现整数任意进制的转换\n",
    "def toStr(n,base):\n",
    "    converString=\"0123456789ABCDEF\"\n",
    "    if n<base:\n",
    "        return converString[n]\n",
    "    else:\n",
    "        return toStr(n//base,base) + converString[n%base]"
   ]
  },
  {
   "cell_type": "code",
   "execution_count": 13,
   "id": "conscious-interest",
   "metadata": {},
   "outputs": [
    {
     "data": {
      "text/plain": [
       "'47D7CFA7D1C824'"
      ]
     },
     "execution_count": 13,
     "metadata": {},
     "output_type": "execute_result"
    }
   ],
   "source": [
    "n=20222010220202020\n",
    "base=16\n",
    "toStr(n,base)"
   ]
  },
  {
   "cell_type": "raw",
   "id": "returning-crest",
   "metadata": {},
   "source": [
    "递归调用的实现\n",
    "当一个函数被调用的时候，系统会把调用时的现场数据压入到系统调用栈\n",
    "每次调用，压入栈的现场数据称为栈帧\n",
    "当函数返回时，要从调用栈的栈顶取得返回地址，恢复现场，弹出栈帧，按地址返回\n",
    "\n",
    "在调试递归算法程序的时候经常会碰到这样的错误：RecursionError\n",
    "递归的层数太多，系统调用栈容量有限\n",
    "电影：前目的地/恐怖游轮\n",
    "\n",
    "\n",
    "递归可视化：\n"
   ]
  },
  {
   "cell_type": "code",
   "execution_count": null,
   "id": "generous-passing",
   "metadata": {},
   "outputs": [],
   "source": [
    "import sys\n",
    "sys.getrecursionlimit()"
   ]
  },
  {
   "cell_type": "code",
   "execution_count": 1,
   "id": "instructional-tower",
   "metadata": {},
   "outputs": [
    {
     "ename": "Terminator",
     "evalue": "",
     "output_type": "error",
     "traceback": [
      "\u001b[1;31m---------------------------------------------------------------------------\u001b[0m",
      "\u001b[1;31mTerminator\u001b[0m                                Traceback (most recent call last)",
      "\u001b[1;32m<ipython-input-1-8c717ec69fd2>\u001b[0m in \u001b[0;36m<module>\u001b[1;34m\u001b[0m\n\u001b[0;32m      5\u001b[0m \u001b[1;31m#作图结束\u001b[0m\u001b[1;33m\u001b[0m\u001b[1;33m\u001b[0m\u001b[1;33m\u001b[0m\u001b[0m\n\u001b[0;32m      6\u001b[0m \u001b[0mturtle\u001b[0m\u001b[1;33m.\u001b[0m\u001b[0mdone\u001b[0m\u001b[1;33m(\u001b[0m\u001b[1;33m)\u001b[0m\u001b[1;33m\u001b[0m\u001b[1;33m\u001b[0m\u001b[0m\n\u001b[1;32m----> 7\u001b[1;33m \u001b[0mturtle\u001b[0m\u001b[1;33m.\u001b[0m\u001b[0mbye\u001b[0m\u001b[1;33m(\u001b[0m\u001b[1;33m)\u001b[0m\u001b[1;33m\u001b[0m\u001b[1;33m\u001b[0m\u001b[0m\n\u001b[0m",
      "\u001b[1;32md:\\miniconda3\\lib\\turtle.py\u001b[0m in \u001b[0;36mbye\u001b[1;34m()\u001b[0m\n",
      "\u001b[1;31mTerminator\u001b[0m: "
     ]
    }
   ],
   "source": [
    "import turtle\n",
    "t=turtle.Turtle()\n",
    "#作图开始\n",
    "t.forward(100) #指挥海龟作图\n",
    "#作图结束\n",
    "turtle.done()\n",
    "turtle.bye()"
   ]
  },
  {
   "cell_type": "code",
   "execution_count": 2,
   "id": "destroyed-uncle",
   "metadata": {},
   "outputs": [
    {
     "ename": "Terminator",
     "evalue": "",
     "output_type": "error",
     "traceback": [
      "\u001b[1;31m---------------------------------------------------------------------------\u001b[0m",
      "\u001b[1;31mTerminator\u001b[0m                                Traceback (most recent call last)",
      "\u001b[1;32m<ipython-input-2-4acd2cbd1088>\u001b[0m in \u001b[0;36m<module>\u001b[1;34m\u001b[0m\n\u001b[0;32m     13\u001b[0m \u001b[1;33m\u001b[0m\u001b[0m\n\u001b[0;32m     14\u001b[0m \u001b[0mturtle\u001b[0m\u001b[1;33m.\u001b[0m\u001b[0mdone\u001b[0m\u001b[1;33m(\u001b[0m\u001b[1;33m)\u001b[0m\u001b[1;33m\u001b[0m\u001b[1;33m\u001b[0m\u001b[0m\n\u001b[1;32m---> 15\u001b[1;33m \u001b[0mturtle\u001b[0m\u001b[1;33m.\u001b[0m\u001b[0mbye\u001b[0m\u001b[1;33m(\u001b[0m\u001b[1;33m)\u001b[0m\u001b[1;33m\u001b[0m\u001b[1;33m\u001b[0m\u001b[0m\n\u001b[0m",
      "\u001b[1;32md:\\miniconda3\\lib\\turtle.py\u001b[0m in \u001b[0;36mbye\u001b[1;34m()\u001b[0m\n",
      "\u001b[1;31mTerminator\u001b[0m: "
     ]
    }
   ],
   "source": [
    "import turtle\n",
    "t=turtle.Turtle()\n",
    "for i in range(4):\n",
    "    t.forward(100)\n",
    "    t.right(90)\n",
    "s=turtle.Turtle()\n",
    "s.pencolor(\"red\")\n",
    "s.pensize(3)\n",
    "for i in range(5):\n",
    "    s.forward(100)\n",
    "    s.right(144)\n",
    "s.hideturtle()\n",
    "\n",
    "turtle.done()\n",
    "turtle.bye()"
   ]
  },
  {
   "cell_type": "code",
   "execution_count": 3,
   "id": "prime-shannon",
   "metadata": {},
   "outputs": [
    {
     "ename": "Terminator",
     "evalue": "",
     "output_type": "error",
     "traceback": [
      "\u001b[1;31m---------------------------------------------------------------------------\u001b[0m",
      "\u001b[1;31mTerminator\u001b[0m                                Traceback (most recent call last)",
      "\u001b[1;32m<ipython-input-3-a2569c9377bb>\u001b[0m in \u001b[0;36m<module>\u001b[1;34m\u001b[0m\n\u001b[0;32m      9\u001b[0m \u001b[0mdrawSpiral\u001b[0m\u001b[1;33m(\u001b[0m\u001b[0mt\u001b[0m\u001b[1;33m,\u001b[0m\u001b[1;36m100\u001b[0m\u001b[1;33m)\u001b[0m\u001b[1;33m\u001b[0m\u001b[1;33m\u001b[0m\u001b[0m\n\u001b[0;32m     10\u001b[0m \u001b[0mturtle\u001b[0m\u001b[1;33m.\u001b[0m\u001b[0mdone\u001b[0m\u001b[1;33m(\u001b[0m\u001b[1;33m)\u001b[0m\u001b[1;33m\u001b[0m\u001b[1;33m\u001b[0m\u001b[0m\n\u001b[1;32m---> 11\u001b[1;33m \u001b[0mturtle\u001b[0m\u001b[1;33m.\u001b[0m\u001b[0mbye\u001b[0m\u001b[1;33m(\u001b[0m\u001b[1;33m)\u001b[0m\u001b[1;33m\u001b[0m\u001b[1;33m\u001b[0m\u001b[0m\n\u001b[0m",
      "\u001b[1;32md:\\miniconda3\\lib\\turtle.py\u001b[0m in \u001b[0;36mbye\u001b[1;34m()\u001b[0m\n",
      "\u001b[1;31mTerminator\u001b[0m: "
     ]
    }
   ],
   "source": [
    "import turtle\n",
    "t=turtle.Turtle()\n",
    "def drawSpiral(t,lineLen):\n",
    "    if lineLen>0:\n",
    "        t.forward(lineLen)\n",
    "        t.right(90)\n",
    "        drawSpiral(t,lineLen-5)\n",
    "\n",
    "drawSpiral(t,100)\n",
    "turtle.done()\n",
    "turtle.bye()"
   ]
  },
  {
   "cell_type": "code",
   "execution_count": 3,
   "id": "ultimate-accounting",
   "metadata": {},
   "outputs": [
    {
     "ename": "Terminator",
     "evalue": "",
     "output_type": "error",
     "traceback": [
      "\u001b[1;31m---------------------------------------------------------------------------\u001b[0m",
      "\u001b[1;31mTerminator\u001b[0m                                Traceback (most recent call last)",
      "\u001b[1;32m<ipython-input-3-536af4a4d6f0>\u001b[0m in \u001b[0;36m<module>\u001b[1;34m\u001b[0m\n\u001b[0;32m     21\u001b[0m \u001b[0mt\u001b[0m\u001b[1;33m.\u001b[0m\u001b[0mhideturtle\u001b[0m\u001b[1;33m(\u001b[0m\u001b[1;33m)\u001b[0m\u001b[1;33m\u001b[0m\u001b[1;33m\u001b[0m\u001b[0m\n\u001b[0;32m     22\u001b[0m \u001b[0mturtle\u001b[0m\u001b[1;33m.\u001b[0m\u001b[0mdone\u001b[0m\u001b[1;33m(\u001b[0m\u001b[1;33m)\u001b[0m\u001b[1;33m\u001b[0m\u001b[1;33m\u001b[0m\u001b[0m\n\u001b[1;32m---> 23\u001b[1;33m \u001b[0mturtle\u001b[0m\u001b[1;33m.\u001b[0m\u001b[0mbye\u001b[0m\u001b[1;33m(\u001b[0m\u001b[1;33m)\u001b[0m\u001b[1;33m\u001b[0m\u001b[1;33m\u001b[0m\u001b[0m\n\u001b[0m",
      "\u001b[1;32md:\\miniconda3\\lib\\turtle.py\u001b[0m in \u001b[0;36mbye\u001b[1;34m()\u001b[0m\n",
      "\u001b[1;31mTerminator\u001b[0m: "
     ]
    }
   ],
   "source": [
    "#分形树代码实现\n",
    "import turtle\n",
    "\n",
    "def tree(branch_len):\n",
    "    if branch_len>5:  #树干太短不画，即递归结束条件\n",
    "        t.forward(branch_len) #画树干\n",
    "        t.right(20)  #向右倾斜20度\n",
    "        tree(branch_len-15) #递归调用画右边的小树，树干减15\n",
    "        t.left(40)  #向左回40度即向左倾斜20度\n",
    "        tree(branch_len-15) #递归调用画左边的小树，树干减15\n",
    "        t.right(20) #向右回20度，即回正\n",
    "        t.backward(branch_len) #海龟退回原位置\n",
    "t=turtle.Turtle()\n",
    "t.left(90)\n",
    "t.penup()\n",
    "t.backward(100)\n",
    "t.pendown()\n",
    "t.pencolor(\"green\")\n",
    "t.pensize(2)\n",
    "tree(75)\n",
    "t.hideturtle()\n",
    "turtle.done()\n",
    "turtle.bye()"
   ]
  },
  {
   "cell_type": "raw",
   "id": "seven-disco",
   "metadata": {},
   "source": [
    "谢尔宾斯基三角形：作图思路\n",
    "根据自相似特性，谢尔宾斯基三角形是由3个尺寸减半的谢尔宾斯基三角形按照品字形拼叠而成\n",
    "由于我们无法真正做出谢尔宾斯基三角形，只能做degree有限的近似图形\n",
    "在degree有限的情况下，degree=n的三角形，是由3个degree=n-1的三角形按照品字形拼接而成\n",
    "同时，这3个degree=n-1的三角形边长均为degree=n的三角形的一半(规模减小)\n",
    "当degree=0，则就是一个等边三角形，这是递归基本结束条件\n"
   ]
  },
  {
   "cell_type": "code",
   "execution_count": 1,
   "id": "impressive-employer",
   "metadata": {},
   "outputs": [],
   "source": [
    "import turtle\n",
    "\n",
    "def sierpinski(degree,points):\n",
    "    colormap=[\"blue\",\"red\",\"green\",\"white\",\"yellow\",\"orange\"]\n",
    "    drawTriangle(points,colormap[degree])  #画等边三角形\n",
    "    if degree>0: #最小规模，0直接退出\n",
    "        sierpinski(degree-1,\n",
    "                  {\"left\":points[\"left\"],\n",
    "                  \"top\":getMid(points[\"left\"],points[\"top\"]),#减小规模：getMid边长减半\n",
    "                  \"right\":getMid(points[\"left\"],points[\"right\"])})\n",
    "        sierpinski(degree-1,\n",
    "                   {\"left\":getMid(points[\"left\"],points[\"top\"]),\n",
    "                   \"top\":points[\"top\"],\n",
    "                   \"right\":getMid(points[\"top\"],points[\"right\"])})\n",
    "        \n",
    "        sierpinski(degree-1,\n",
    "                   {\"left\":getMid(points[\"left\"],points[\"right\"]),\n",
    "                   \"top\":getMid(points[\"top\"],points[\"right\"]),\n",
    "                   \"right\":points[\"right\"]})\n",
    "        #调用自身，左上右次序\n",
    "\n",
    "def drawTriangle(points,color):\n",
    "    '''绘制等边三角形'''\n",
    "    t.fillcolor(color)\n",
    "    t.penup()\n",
    "    t.goto(points[\"top\"])\n",
    "    t.pendown()\n",
    "    t.begin_fill()\n",
    "    t.goto(points[\"left\"])\n",
    "    t.goto(points[\"right\"])\n",
    "    t.goto(points[\"top\"])\n",
    "    t.end_fill()\n",
    "    \n",
    "    \n",
    "def getMid(p1,p2):\n",
    "    '''取两个点的中点'''\n",
    "    return ((p1[0]+p2[0])/2,(p1[1]+p2[1])/2)\n",
    "\n"
   ]
  },
  {
   "cell_type": "code",
   "execution_count": 3,
   "id": "velvet-release",
   "metadata": {},
   "outputs": [
    {
     "ename": "Terminator",
     "evalue": "",
     "output_type": "error",
     "traceback": [
      "\u001b[1;31m---------------------------------------------------------------------------\u001b[0m",
      "\u001b[1;31mTerminator\u001b[0m                                Traceback (most recent call last)",
      "\u001b[1;32m<ipython-input-3-37906c3def42>\u001b[0m in \u001b[0;36m<module>\u001b[1;34m\u001b[0m\n\u001b[0;32m      6\u001b[0m \u001b[1;33m\u001b[0m\u001b[0m\n\u001b[0;32m      7\u001b[0m \u001b[0mturtle\u001b[0m\u001b[1;33m.\u001b[0m\u001b[0mdone\u001b[0m\u001b[1;33m(\u001b[0m\u001b[1;33m)\u001b[0m\u001b[1;33m\u001b[0m\u001b[1;33m\u001b[0m\u001b[0m\n\u001b[1;32m----> 8\u001b[1;33m \u001b[0mturtle\u001b[0m\u001b[1;33m.\u001b[0m\u001b[0mbye\u001b[0m\u001b[1;33m(\u001b[0m\u001b[1;33m)\u001b[0m\u001b[1;33m\u001b[0m\u001b[1;33m\u001b[0m\u001b[0m\n\u001b[0m",
      "\u001b[1;32md:\\miniconda3\\lib\\turtle.py\u001b[0m in \u001b[0;36mbye\u001b[1;34m()\u001b[0m\n",
      "\u001b[1;31mTerminator\u001b[0m: "
     ]
    }
   ],
   "source": [
    "t=turtle.Turtle()\n",
    "points={\"left\":(-200,-100),\n",
    "       \"top\":(0,200),\n",
    "       \"right\":(200,-100)} #外轮廓三个顶点\n",
    "sierpinski(5,points) #画degree=5的三角形\n",
    "\n",
    "turtle.done()\n",
    "turtle.bye()"
   ]
  },
  {
   "cell_type": "raw",
   "id": "express-producer",
   "metadata": {},
   "source": [
    "递归的应用：汉诺塔\n",
    "分解为递归形式\n",
    "假设我们有5个盘子，穿在1#柱，需要挪到3#柱\n",
    "如果能有办法把最上面的一摞4个盘子统统挪到2#柱，那问题就好解决了\n",
    "把剩下的最大号盘子直接从1#柱挪到3#柱\n",
    "再用同样的办法把2#柱上的那一摞4个盘子挪到3#柱，就完成了整个移动\n",
    "\n",
    "接下来问题就是解决4个盘在如何能从1#挪到2#\n",
    "此时问题规模已经减小\n",
    "同样是想办法把上面的一摞3个盘子挪到3#柱\n",
    "把剩下最大号盘子从1#柱挪到2#柱，再用同样的办法把一摞3个盘子从3#挪到2#柱\n",
    "\n",
    "依次类推\n",
    "\n",
    "递归思路\n",
    "将盘片塔从开始柱，经由中间柱，移动到目标柱：\n",
    "首先将上层N-1个盘片的盘片塔，从开始柱，经由目标柱，移动到中间柱\n",
    "然后将第N个盘片，从开始柱，移动到目标柱。\n",
    "最后将放置在中间柱的N-1个盘片的盘片塔，经由开始柱，移动到目标柱。\n",
    "基本结束条件也就是最小规模问题是：\n",
    "1个盘片的移动问题"
   ]
  },
  {
   "cell_type": "code",
   "execution_count": 4,
   "id": "seasonal-sense",
   "metadata": {},
   "outputs": [],
   "source": [
    "#实现汉诺塔\n",
    "def moveTower(height,fromPole,withPole,toPole):\n",
    "    if height >=1:\n",
    "        moveTower(height-1,fromPole,toPole,withPole)\n",
    "        moveDisk(height,fromPole,toPole)\n",
    "        moveTower(height-1,withPole,fromPole,toPole)\n",
    "        \n",
    "def moveDisk(disk,fromPole,toPole):\n",
    "    print(f\"Moving disk[{disk}] from {fromPole} to {toPole}\")"
   ]
  },
  {
   "cell_type": "code",
   "execution_count": 5,
   "id": "accurate-obligation",
   "metadata": {},
   "outputs": [
    {
     "name": "stdout",
     "output_type": "stream",
     "text": [
      "Moving disk[1] from #1 to #3\n",
      "Moving disk[2] from #1 to #2\n",
      "Moving disk[1] from #3 to #2\n",
      "Moving disk[3] from #1 to #3\n",
      "Moving disk[1] from #2 to #1\n",
      "Moving disk[2] from #2 to #3\n",
      "Moving disk[1] from #1 to #3\n"
     ]
    }
   ],
   "source": [
    "moveTower(3,\"#1\",\"#2\",\"#3\")"
   ]
  },
  {
   "cell_type": "raw",
   "id": "average-primary",
   "metadata": {},
   "source": [
    "递归应用：古希腊的迷宫\n",
    "考虑用矩阵方式来实现迷宫数据结构\n",
    "采用\"数据项为字符列表的列表\"这种两级列表的方式来保存方格内容\n",
    "采用不同字符来分别代表\"墙壁+\"，\"通道\",\"海龟投放点S\"\n",
    "从一个文本文件逐行读入迷宫数据\n",
    "\n",
    "思路：\n",
    "确定了迷宫数据结构之后，我们知道，对于海龟来说，其身处某个方格之中\n",
    "    它所能移动的方向，必须是向着通道的方向\n",
    "    如果某个方向是墙壁方格，就要换一个方向移动\n",
    "    \n",
    "    将海龟从位置向北移动一步，以新位置递归调用探索迷宫寻找出口\n",
    "    如果上面的步骤找不到出口，那么将海龟从原位置向南移动一步，以新位置递归调用探索迷宫\n",
    "    如果向南还找不到出口，那么将海龟从原位置向西移动一步，以新位置。。。。。\n",
    "    如果向西还找不到出口，那么将海龟从原位置向东移动一步，以新位置。。。。。\n",
    "    如果上面四个方向都找不到出口，那么这个迷宫没有出口。\n",
    "    \n",
    "注意点：\n",
    "    如果我们向某个方向(北面)移动了海龟，那么如果新位置的北正好是一堵墙壁，那么在新位置上的递归调用就会让海龟向南尝试\n",
    "    可是新位置的南边就是原来的位置，这样就会陷入了无限死循环\n",
    "所以沿途需要有个机制记录海龟所走过的路径，姑且标记为面包屑\n",
    "    一旦前进方向发现\"面包屑\"，就不能再踩上去，而必须换下一个方向尝试。对于递归调用来说，就是某方向的方格上发现\"面包屑\"，\n",
    "    就立即从递归调用返回上一级。\n",
    "    \n",
    "    \n",
    "递归调用的\"基本结束条件\"归纳如下：\n",
    "    海龟碰到\"墙壁\"方格，递归调用结束，返回失败\n",
    "    海龟碰到\"面包屑\"方格，表示此方格已访问过，递归调用结束，返回失败\n",
    "    海龟碰到\"出口\"方格，即\"位于边缘的通道\"方格，递归调用结束，返回成功\n",
    "    海龟在四个方向上都探索失败，递归调用结束，返回失败\n",
    "    \n",
    "    \n",
    "为了让海龟在迷宫图里跑起来，我们给迷宫数据结构Maze Class添加一些成员和方法\n",
    "    t:一个作图的海龟，设置其shape为海龟的样子\n",
    "    drawMaze():绘制出迷宫的图形，墙壁用实心方格绘制\n",
    "    updatePosition(row,col,val):更新海龟的位置，并做标注\n",
    "    isExit(row,col):判断是否\"出口\""
   ]
  },
  {
   "cell_type": "raw",
   "id": "micro-cigarette",
   "metadata": {},
   "source": [
    "#迷宫的数据结构：Maze Class\n",
    "class Maze(object):\n",
    "    def __init__(self,mazeFileName):\n",
    "        rowsInMaze=0\n",
    "        columnsInMaze=0\n",
    "        self.mazelist=[]\n",
    "        mazeFile=open(mazeFileName,\"r\")\n",
    "        rowsInMaze=0\n",
    "        for line in mazeFile:\n",
    "            rowList=[]\n",
    "            col=0\n",
    "            for ch in line[:-1]:\n",
    "                rowList.append(ch)\n",
    "                if ch==\"S\":\n",
    "                    self.startRow=rowsInMaze\n",
    "                    self.startCol=col\n",
    "                col+=1\n",
    "            rowsInMaze+=1\n",
    "            self.mazelist.append(rowList)\n",
    "            columnsInMaze=len(rowList)"
   ]
  },
  {
   "cell_type": "code",
   "execution_count": 9,
   "id": "generous-heating",
   "metadata": {},
   "outputs": [
    {
     "data": {
      "text/plain": [
       "3"
      ]
     },
     "execution_count": 9,
     "metadata": {},
     "output_type": "execute_result"
    }
   ],
   "source": [
    "tt=\"wertabs\"\n",
    "tt.index(\"t\")"
   ]
  },
  {
   "cell_type": "code",
   "execution_count": 17,
   "id": "fantastic-meter",
   "metadata": {},
   "outputs": [
    {
     "name": "stdout",
     "output_type": "stream",
     "text": [
      "82\n",
      "1000010\n"
     ]
    }
   ],
   "source": [
    "#进制转换\n",
    "k=input()\n",
    "m,n=[int(x) for x in list(k)]\n",
    "chars=\"0123456789ABCDEFGHIJKLMNOPQRSTUVWXYZ\"\n",
    "def nbase2int(k,n): #n进制转为整数，k是字符串\n",
    "    if len(k)==1:\n",
    "        return chars.index(k)\n",
    "    else:\n",
    "        return nbase2int(k[:-1],n)*n+chars.index(k[-1])\n",
    "    \n",
    "    \n",
    "def int2nbase(k,n): #整数转换为n进制，k是整数\n",
    "    if k<n:\n",
    "        return chars[k]\n",
    "    else:\n",
    "        return int2nbase(k//n,n)+chars[k%n]\n",
    "print(int2nbase(nbase2int(k,m),n))"
   ]
  },
  {
   "cell_type": "raw",
   "id": "serial-dominant",
   "metadata": {},
   "source": [
    "#四柱汉诺塔\n",
    "设F[n]为所求的最小步数，显然，当n=1时，F[n]=1；当n=2时，F[n]=3；如同经典汉诺塔一样，我们将移完盘子的任务分为三步：\n",
    "\n",
    "将x（1<x<n）个盘子从a柱子上依靠b，d柱子移动到c柱子上，这个过程需要的步数为F(x) 。\n",
    "将a柱上剩下的n-x个盘依靠b柱移到d柱。这个过程需要的步数为 2^n-x -1。（这个通项公式可以通过数学归纳法来求得，你可以写程序找规律，事实上n柱汉诺塔的公式在数学上好像已经得到解决。）\n",
    "将c柱上的x个盘依靠a,b柱移到d柱上，这个过程需要的步数为F(x) 。\n",
    "故完成任务所需要的总的步数 : F(n)=2F(x)+2^n-x -1\n",
    "\n",
    "但这还没有达到要求，题目中要求的是求最少的步数，易知上式，随着x的不同取值，对于同一个n，也会得出不同的F[n]。即实际该问题的答案应该最小化F(n) ，其中 [公式] ，我们可以用循环的方式，遍历x的各个取值，取x的各个取值中的F[n]的最小值。\n",
    "\n",
    "\n",
    "def hanoi4(n):\n",
    "    h_list = [0] * (n + 1)\n",
    " \n",
    "    def f(m):\n",
    "        if h_list[m]:\n",
    "            return h_list[m]\n",
    "        result = 2 ** m - 1\n",
    "        for x in range(1, m):\n",
    "            result = min(result, 2 * f(x) + 2 ** (m - x) - 1)\n",
    "        h_list[m] = result  #记录算过的值\n",
    "        return result\n",
    " \n",
    "    return f(n)\n",
    "print(hanoi4(int(input())))"
   ]
  },
  {
   "cell_type": "code",
   "execution_count": 1,
   "id": "handmade-mixture",
   "metadata": {},
   "outputs": [
    {
     "name": "stdout",
     "output_type": "stream",
     "text": [
      "8\n",
      "33\n"
     ]
    }
   ],
   "source": [
    "def hanoi4(n):\n",
    "    h_list=[0]*(n+1)\n",
    "    def f(m):\n",
    "        if h_list[m]:\n",
    "            return h_list[m]\n",
    "        result=2**m-1\n",
    "        for x in range(1,m):\n",
    "            result=min(result,2*f(x)+2**(m-x)-1)\n",
    "        h_list[m]=result\n",
    "        return result\n",
    "    return f(n)\n",
    "print(hanoi4(int(input())))"
   ]
  },
  {
   "cell_type": "code",
   "execution_count": 12,
   "id": "ignored-likelihood",
   "metadata": {},
   "outputs": [
    {
     "name": "stdout",
     "output_type": "stream",
     "text": [
      "9\n",
      "[]\n",
      "[][][][][][][][][]\n",
      "[]  [][]  [][]  []\n",
      "[][][][][][][][][]\n",
      "[][][]      [][][]\n",
      "[]  []      []  []\n",
      "[][][]      [][][]\n",
      "[][][][][][][][][]\n",
      "[]  [][]  [][]  []\n",
      "[][][][][][][][][]\n"
     ]
    }
   ],
   "source": [
    "#谢尔宾斯基地毯\n",
    "n=int(input()) #阶数\n",
    "ch=input() #构成字符\n",
    "blank=\" \"*len(ch) #构成空白\n",
    "pic=[[ch for col in range(n)] for row in range(n)]  #画板\n",
    "\n",
    "def spski(n,top,left): #n阶，左上角的行列数\n",
    "    if n==1: #基本结束条件\n",
    "        return \n",
    "    # 分为3行3列。挖掉中心，其余递归n//3\n",
    "    for row in range(3):\n",
    "        for col in range(3):\n",
    "            if row==1 and col==1: #挖空\n",
    "                for r1 in range(n//3):\n",
    "                    for c1 in range(n//3):\n",
    "                        pic[top+n//3+r1][left+n//3+c1]=blank\n",
    "            else:\n",
    "                spski(n//3,top+row*n//3,left+col*n//3)\n",
    "                \n",
    "spski(n,0,0)#挖N阶\n",
    "for r in range(n):\n",
    "    print(\"\".join(pic[r]))\n",
    "    \n"
   ]
  },
  {
   "cell_type": "raw",
   "id": "increasing-moore",
   "metadata": {},
   "source": [
    "优化问题和贪心策略：\n",
    "找零兑换问题的递归解法：\n",
    "\n",
    "\n",
    "用递归去解的话，一定是可以找到最优解的\n",
    "\n",
    "首先确定基本结束条件，兑换硬币这个问题最简单直接的就是，需要兑换的恰好等于某种硬币\n",
    "\n",
    "其次是减小问题的规模，我们要对每种硬币尝试1次，\n",
    "    找零减去1分后，求兑换硬币最少数量\n",
    "    找零减去5分后，求兑换硬币最少数量\n",
    "    找零减去10分后，求兑换硬币最少数量\n",
    "    ......25分\n",
    "    \n",
    "    上述4种中选择最小的一个\n",
    "    \n",
    "递归虽能解决问题，但是效率极其低下；时间成本很高\n",
    "\n",
    "其实这个递归每一部分的重复运算太多了，虽然代码好写，但是重复运算太浪费计算机了\n",
    "\n",
    "这个算法的中间结果就是部分找零的最优解，在递归调用中已经得到的最优解被记录下来\n",
    "\n",
    "在递归调用之前，先查找表中是否已有部分找零的最优解\n",
    "如果有，直接返回最优解而不用进行递归调用\n",
    "如果没有，则进行递归调用"
   ]
  },
  {
   "cell_type": "code",
   "execution_count": 13,
   "id": "pending-royal",
   "metadata": {},
   "outputs": [],
   "source": [
    "#递归代码的实现\n",
    "def recMC(coinValueList,change):\n",
    "    minCoins=change\n",
    "    if change in coinValueList:\n",
    "        return 1\n",
    "    else:\n",
    "        for i in [c for c in coinValueList if c<change]:\n",
    "            numCoins=1+recMC(coinValueList,change-i)\n",
    "            if numCoins < minCoins:\n",
    "                minCoins=numCoins\n",
    "    return minCoins\n"
   ]
  },
  {
   "cell_type": "code",
   "execution_count": 14,
   "id": "charming-republican",
   "metadata": {},
   "outputs": [
    {
     "data": {
      "text/plain": [
       "6"
      ]
     },
     "execution_count": 14,
     "metadata": {},
     "output_type": "execute_result"
    }
   ],
   "source": [
    "recMC([1,5,10,25],63)"
   ]
  },
  {
   "cell_type": "code",
   "execution_count": 20,
   "id": "chubby-trace",
   "metadata": {},
   "outputs": [],
   "source": [
    "#递归代码改进版\n",
    "def recDc(coinValueList,change,knownResults):\n",
    "    minCoins=change\n",
    "    if change in coinValueList:\n",
    "        knownResults[change]=1\n",
    "        return 1\n",
    "    elif knownResults[change]>0:\n",
    "        return knownResults[change]   #查表成功，直接用最优解\n",
    "    else:\n",
    "        for i in [c for c in coinValueList if c<=change]:\n",
    "            numCoins=1+recDc(coinValueList,change-i,knownResults)\n",
    "            \n",
    "            if numCoins<minCoins:\n",
    "                minCoins=numCoins\n",
    "                knownResults[change]=minCoins\n",
    "    return minCoins"
   ]
  },
  {
   "cell_type": "code",
   "execution_count": 21,
   "id": "compressed-dispatch",
   "metadata": {},
   "outputs": [
    {
     "data": {
      "text/plain": [
       "6"
      ]
     },
     "execution_count": 21,
     "metadata": {},
     "output_type": "execute_result"
    }
   ],
   "source": [
    "recDc([1,5,10,25],63,[0]*64)"
   ]
  },
  {
   "cell_type": "code",
   "execution_count": null,
   "id": "american-longitude",
   "metadata": {},
   "outputs": [],
   "source": []
  }
 ],
 "metadata": {
  "kernelspec": {
   "display_name": "Python 3",
   "language": "python",
   "name": "python3"
  },
  "language_info": {
   "codemirror_mode": {
    "name": "ipython",
    "version": 3
   },
   "file_extension": ".py",
   "mimetype": "text/x-python",
   "name": "python",
   "nbconvert_exporter": "python",
   "pygments_lexer": "ipython3",
   "version": "3.7.6"
  }
 },
 "nbformat": 4,
 "nbformat_minor": 5
}
